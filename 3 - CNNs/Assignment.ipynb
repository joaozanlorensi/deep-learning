{
  "cells": [
    {
      "cell_type": "code",
      "execution_count": null,
      "metadata": {
        "id": "2Mz_WVE03Ip4"
      },
      "outputs": [],
      "source": [
        "import os\n",
        "from google.colab import drive\n",
        "from google.colab import files\n",
        "from tensorflow import keras\n",
        "import numpy as np\n",
        "from tensorflow.keras.preprocessing.image import ImageDataGenerator, array_to_img, img_to_array, load_img\n",
        "from tensorflow.keras import layers\n",
        "from tensorflow.keras.models import Sequential\n",
        "from tensorflow.keras.wrappers.scikit_learn import KerasClassifier\n",
        "from sklearn.model_selection import ParameterGrid\n",
        "import matplotlib.pyplot as plt\n"
      ]
    },
    {
      "cell_type": "code",
      "execution_count": null,
      "metadata": {
        "id": "XWGayvoGvawJ"
      },
      "outputs": [],
      "source": [
        "# Downloading the files from Kaggle (https://www.kaggle.com/general/74235)\n",
        "! pip install -q kaggle"
      ]
    },
    {
      "cell_type": "code",
      "execution_count": null,
      "metadata": {
        "id": "Rsrs5GCb-JOC"
      },
      "outputs": [],
      "source": [
        "mkdir Week5_Data"
      ]
    },
    {
      "cell_type": "code",
      "execution_count": null,
      "metadata": {
        "colab": {
          "base_uri": "https://localhost:8080/"
        },
        "id": "VZ2Js87ilNVl",
        "outputId": "0a0d432a-8e89-4499-9faf-f4b5fcf7e33b"
      },
      "outputs": [
        {
          "name": "stdout",
          "output_type": "stream",
          "text": [
            "/content/Week5_Data/Week5_Data\n"
          ]
        }
      ],
      "source": [
        "cd Week5_Data/"
      ]
    },
    {
      "cell_type": "code",
      "execution_count": null,
      "metadata": {
        "colab": {
          "base_uri": "https://localhost:8080/",
          "height": 93,
          "resources": {
            "http://localhost:8080/nbextensions/google.colab/files.js": {
              "data": "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",
              "headers": [
                [
                  "content-type",
                  "application/javascript"
                ]
              ],
              "ok": true,
              "status": 200,
              "status_text": "OK"
            }
          }
        },
        "id": "85HfTs9l38Zj",
        "outputId": "70d31886-e9de-4f46-819d-90c12aca4a88"
      },
      "outputs": [],
      "source": [
        "files.upload() # Upload your kaggle.json file"
      ]
    },
    {
      "cell_type": "code",
      "execution_count": null,
      "metadata": {
        "id": "_08Ca0oKll0Q"
      },
      "outputs": [],
      "source": [
        "! mkdir kaggle"
      ]
    },
    {
      "cell_type": "code",
      "execution_count": null,
      "metadata": {
        "colab": {
          "base_uri": "https://localhost:8080/"
        },
        "id": "cRJoAj7cl8RR",
        "outputId": "1d43776b-063a-4327-ffd0-89480036a660"
      },
      "outputs": [
        {
          "name": "stdout",
          "output_type": "stream",
          "text": [
            "\u001b[0m\u001b[01;34mkaggle\u001b[0m/  kaggle.json\n"
          ]
        }
      ],
      "source": [
        "ls"
      ]
    },
    {
      "cell_type": "code",
      "execution_count": null,
      "metadata": {
        "colab": {
          "base_uri": "https://localhost:8080/"
        },
        "id": "KyztiwqBE3Mf",
        "outputId": "cff03f83-13f9-4028-9149-ddf82e71270a"
      },
      "outputs": [],
      "source": [
        "! cp kaggle.json ~/.kaggle/\n",
        "! chmod 600 ~/.kaggle/kaggle.json\n",
        "! kaggle datasets download -d kmader/food41\n",
        "! unzip food41.zip "
      ]
    },
    {
      "cell_type": "code",
      "execution_count": null,
      "metadata": {
        "colab": {
          "base_uri": "https://localhost:8080/"
        },
        "id": "fZQcchTNnJPd",
        "outputId": "9db4bdff-e60d-41af-c1af-9b76ace8dacf"
      },
      "outputs": [
        {
          "name": "stdout",
          "output_type": "stream",
          "text": [
            "food41.zip                     food_test_c101_n1000_r128x128x1.h5  \u001b[0m\u001b[01;34mimages\u001b[0m/\n",
            "food_c101_n1000_r384x384x3.h5  food_test_c101_n1000_r128x128x3.h5  \u001b[01;34mkaggle\u001b[0m/\n",
            "food_c101_n10099_r32x32x1.h5   food_test_c101_n1000_r32x32x1.h5    kaggle.json\n",
            "food_c101_n10099_r32x32x3.h5   food_test_c101_n1000_r32x32x3.h5    \u001b[01;34mmeta\u001b[0m/\n",
            "food_c101_n10099_r64x64x1.h5   food_test_c101_n1000_r64x64x1.h5\n",
            "food_c101_n10099_r64x64x3.h5   food_test_c101_n1000_r64x64x3.h5\n"
          ]
        }
      ],
      "source": [
        "ls"
      ]
    },
    {
      "cell_type": "code",
      "execution_count": null,
      "metadata": {
        "id": "bnJ8dEnrVpOt"
      },
      "outputs": [],
      "source": [
        "try: \n",
        "  os.remove('food41.zip')\n",
        "except:\n",
        "  pass\n",
        "try:  \n",
        "  os.remove('kaggle.json')\n",
        "except:\n",
        "  pass"
      ]
    },
    {
      "cell_type": "markdown",
      "metadata": {
        "id": "sYIFmSkBWqbp"
      },
      "source": [
        "# Splits Train and Test datasets"
      ]
    },
    {
      "cell_type": "code",
      "execution_count": null,
      "metadata": {
        "id": "YI1f0_SSus4o"
      },
      "outputs": [],
      "source": [
        "images_per_class_train = 750\n",
        "images_per_class_test = 250\n",
        "\n",
        "n_classes = 10"
      ]
    },
    {
      "cell_type": "code",
      "execution_count": null,
      "metadata": {
        "id": "U3UbIo6xLAyB"
      },
      "outputs": [],
      "source": [
        "with open('meta/meta/train.txt') as trainfile:\n",
        "    trainlines = trainfile.readlines()\n",
        "    trainlines = trainlines[0:images_per_class_train*n_classes]\n",
        "    trainlines = [line.rstrip()+'.jpg' for line in trainlines]\n",
        "\n",
        "with open('meta/meta/test.txt') as testfile:\n",
        "    testlines = testfile.readlines()\n",
        "    testlines = testlines[0:images_per_class_test*n_classes]\n",
        "\n",
        "    testlines = [line.rstrip()+'.jpg' for line in testlines]\n",
        "\n",
        "!mkdir train/\n",
        "!mkdir test/\n",
        "\n",
        "with open('meta/meta/classes.txt') as classfile:\n",
        "    classlines = classfile.readlines()\n",
        "    classlines = classlines[0:n_classes]\n",
        "    classlines = [line.rstrip() for line in classlines]\n",
        "\n",
        "# Creating Directories\n",
        "for class_ in classlines:\n",
        "    try:\n",
        "        os.makedirs('train/'+class_)\n",
        "    except:\n",
        "        pass\n",
        "    try:\n",
        "        os.makedirs('test/'+class_)\n",
        "    except:\n",
        "        pass\n",
        "\n",
        "#move files to corresponding folder\n",
        "for tl in trainlines:\n",
        "    try:\n",
        "        os.replace('images/'+tl, 'train/'+tl)\n",
        "    except:\n",
        "        pass\n",
        "for tl in testlines:\n",
        "    try:\n",
        "        os.replace('images/'+tl, 'test/'+tl)\n",
        "    except:\n",
        "        pass"
      ]
    },
    {
      "cell_type": "code",
      "execution_count": null,
      "metadata": {
        "id": "rN9BJXnRQCdT"
      },
      "outputs": [],
      "source": [
        "#clean up\n",
        "for class_ in classlines:\n",
        "    try:\n",
        "        os.rmdir('images/'+class_)\n",
        "    except:\n",
        "        pass\n",
        "try:\n",
        "    os.rmdir('images/')\n",
        "except:\n",
        "    pass"
      ]
    },
    {
      "cell_type": "markdown",
      "metadata": {
        "id": "EaheeGohWOL5"
      },
      "source": [
        "# Model definition"
      ]
    },
    {
      "cell_type": "code",
      "execution_count": null,
      "metadata": {
        "colab": {
          "base_uri": "https://localhost:8080/"
        },
        "id": "SoyVHzJH3o8w",
        "outputId": "b3bcb559-4e07-499a-cdbc-e91cb486cc9f"
      },
      "outputs": [
        {
          "name": "stdout",
          "output_type": "stream",
          "text": [
            "Found 7500 images belonging to 10 classes.\n",
            "Found 2500 images belonging to 10 classes.\n"
          ]
        }
      ],
      "source": [
        "# Documentation: https://www.tensorflow.org/api_docs/python/tf/keras/preprocessing/image/ImageDataGenerator\n",
        "\n",
        "datagen = ImageDataGenerator(\n",
        "                horizontal_flip=True,\n",
        "                rescale = (1./128) - 1 # Normalization between -1,1\n",
        "              )\n",
        "\n",
        "datagen_test = ImageDataGenerator(\n",
        "                rescale = (1./128) - 1\n",
        "              )\n",
        "batch_size = 32\n",
        "\n",
        "# Documentation: https://www.tensorflow.org/api_docs/python/tf/keras/preprocessing/image/ImageDataGenerator#flow_from_directory\n",
        "train_batches = datagen.flow_from_directory('train/', batch_size=batch_size, class_mode = 'categorical', target_size=(224, 224))\n",
        "test_batches = datagen_test.flow_from_directory('test/', batch_size=batch_size, class_mode = 'categorical', target_size=(224, 224))"
      ]
    },
    {
      "cell_type": "code",
      "execution_count": null,
      "metadata": {
        "id": "tPB3i-k0xHYL"
      },
      "outputs": [],
      "source": [
        "# Functions to calculate accuracy metrics\n",
        "from keras import backend as K\n",
        "\n",
        "def recall_m(y_true, y_pred):\n",
        "    true_positives = K.sum(K.round(K.clip(y_true * y_pred, 0, 1)))\n",
        "    possible_positives = K.sum(K.round(K.clip(y_true, 0, 1)))\n",
        "    recall = true_positives / (possible_positives + K.epsilon())\n",
        "    return recall\n",
        "def precision_m(y_true, y_pred):\n",
        "    true_positives = K.sum(K.round(K.clip(y_true * y_pred, 0, 1)))\n",
        "    predicted_positives = K.sum(K.round(K.clip(y_pred, 0, 1)))\n",
        "    precision = true_positives / (predicted_positives + K.epsilon())\n",
        "    return precision\n",
        "def f1_m(y_true, y_pred):\n",
        "    precision = precision_m(y_true, y_pred)\n",
        "    recall = recall_m(y_true, y_pred)\n",
        "    return 2*((precision*recall)/(precision+recall+K.epsilon()))"
      ]
    },
    {
      "cell_type": "code",
      "execution_count": null,
      "metadata": {
        "id": "4BMIeVNiysES"
      },
      "outputs": [],
      "source": [
        "def get_model(optimizer):\n",
        "  \n",
        "  model = Sequential()\n",
        "\n",
        "  # Adding the network layers\n",
        "  model.add(layers.Conv2D(32, kernel_size=(5, 5),\n",
        "                   strides=(2, 2), \n",
        "                   padding='valid',\n",
        "                   input_shape=(224,224,3)))\n",
        "  \n",
        "  model.add(layers.BatchNormalization(axis=3, scale=False))\n",
        "  \n",
        "  model.add(layers.Activation('relu'))\n",
        "\n",
        "  model.add(layers.Conv2D(32, (5, 5), strides=(2, 2), \n",
        "                   padding='valid',))\n",
        "  \n",
        "  model.add(layers.BatchNormalization(axis=3, scale=False))\n",
        "  \n",
        "  model.add(layers.Activation('relu'))\n",
        "\n",
        "  model.add(layers.Conv2D(64, kernel_size=(5, 5),\n",
        "                   strides=(2, 2), \n",
        "                   padding='valid',\n",
        "                  ))\n",
        "  \n",
        "  model.add(layers.BatchNormalization(axis=3, scale=False))\n",
        "  \n",
        "  model.add(layers.Activation('relu'))\n",
        "  \n",
        "  model.add(layers.MaxPooling2D(pool_size=(3, 3), strides=(2, 2)))\n",
        "\n",
        "  model.add(layers.Conv2D(64, kernel_size=(3, 3),\n",
        "                   strides=(2, 2), \n",
        "                 padding='valid',\n",
        "                 ))\n",
        "  \n",
        "  model.add(layers.BatchNormalization(axis=3, scale=False))\n",
        "  \n",
        "  model.add(layers.Activation('relu'))\n",
        "\n",
        "  model.add(layers.Conv2D(64, (3, 3), strides=(2, 2), \n",
        "                   padding='valid'))\n",
        "  \n",
        "  model.add(layers.BatchNormalization(axis=3, scale=False))\n",
        "  \n",
        "  model.add(layers.Activation('relu'))\n",
        "\n",
        "  model.add(layers.Flatten())\n",
        "  \n",
        "  model.add(layers.Dense(n_classes, activation='softmax'))\n",
        "  \n",
        "  model.summary()\n",
        "  \n",
        "  model.compile(loss='categorical_crossentropy', optimizer=optimizer, metrics=['accuracy', f1_m, recall_m, precision_m])\n",
        "\n",
        "  return model"
      ]
    },
    {
      "cell_type": "code",
      "execution_count": null,
      "metadata": {
        "colab": {
          "base_uri": "https://localhost:8080/",
          "height": 54
        },
        "id": "_H9YYDCZYPi7",
        "outputId": "2d4cd0f7-27ed-4576-ca1d-9ad64dfc872b"
      },
      "outputs": [
        {
          "data": {
            "application/vnd.google.colaboratory.intrinsic+json": {
              "type": "string"
            },
            "text/plain": [
              "\"\\nmodel = get_model(optimizer='SGD')\\n\\nhist = model.fit(\\n                train_batches,\\n                steps_per_epoch = images_per_class_train * n_classes / batch_size,\\n                epochs=20,\\n                validation_data = test_batches,\\n                validation_steps= images_per_class_test * n_classes / batch_size,               \\n                )\\n\""
            ]
          },
          "execution_count": 29,
          "metadata": {},
          "output_type": "execute_result"
        }
      ],
      "source": [
        "# Commented out for saving execution time when running everything\n",
        "'''\n",
        "model = get_model(optimizer='SGD')\n",
        "\n",
        "hist = model.fit(\n",
        "                train_batches,\n",
        "                steps_per_epoch = images_per_class_train * n_classes / batch_size,\n",
        "                epochs=20,\n",
        "                validation_data = test_batches,\n",
        "                validation_steps= images_per_class_test * n_classes / batch_size,               \n",
        "                )\n",
        "'''"
      ]
    },
    {
      "cell_type": "markdown",
      "metadata": {
        "id": "mNwJhWH-AbF6"
      },
      "source": [
        "# Using GridSearch to try to choose the best optimizer for the model"
      ]
    },
    {
      "cell_type": "markdown",
      "metadata": {
        "id": "SQKc1HglYAIS"
      },
      "source": [
        "*train_batches* is a DirectoryIterator yielding tuples of (x, y)\n",
        "where x is a numpy array containing a batch of images with \n",
        "shape (batch_size, *target_size, channels) and y is a numpy\n",
        "array of corresponding labels. I tried to load X and y individually \n",
        "to memory as variables, however it does not fit in the RAM. Because\n",
        "of that, I can't use SciKitLearn's GridSearch default methods. My\n",
        "Approach will be of manually making a grid search method.\n",
        "The code is commented out due to performance limitations, as it would take a considerable amount of time to run, but the best optimizer given was the ['Nadam'](https://www.tensorflow.org/api_docs/python/tf/keras/optimizers/Nadam) Optimizer."
      ]
    },
    {
      "cell_type": "code",
      "execution_count": null,
      "metadata": {
        "colab": {
          "base_uri": "https://localhost:8080/",
          "height": 36
        },
        "id": "gmccSz0moFL3",
        "outputId": "ecf1c10f-a038-459a-84d4-eca492ce3578"
      },
      "outputs": [
        {
          "data": {
            "application/vnd.google.colaboratory.intrinsic+json": {
              "type": "string"
            },
            "text/plain": [
              "\"\\nparam_grid = ParameterGrid(\\n  {\\n      'optimizer': ['SGD', 'RMSprop', 'Adagrad', 'Adadelta', 'Adam', 'Adamax', 'Nadam'],\\n  }\\n)\\n\""
            ]
          },
          "execution_count": 30,
          "metadata": {},
          "output_type": "execute_result"
        }
      ],
      "source": [
        "'''\n",
        "param_grid = ParameterGrid(\n",
        "  {\n",
        "      'optimizer': ['SGD', 'RMSprop', 'Adagrad', 'Adadelta', 'Adam', 'Adamax', 'Nadam'],\n",
        "  }\n",
        ")\n",
        "'''"
      ]
    },
    {
      "cell_type": "code",
      "execution_count": null,
      "metadata": {
        "colab": {
          "base_uri": "https://localhost:8080/",
          "height": 91
        },
        "id": "-sPwjLqAGGdq",
        "outputId": "83409833-f643-44f8-c08b-269878527798"
      },
      "outputs": [
        {
          "data": {
            "application/vnd.google.colaboratory.intrinsic+json": {
              "type": "string"
            },
            "text/plain": [
              "\"\\ngs = []\\nfor param in param_grid:\\n  optimizer = param['optimizer']\\n\\n  model = get_model(optimizer=optimizer)\\n\\n  hist = model.fit(\\n                train_batches,\\n                steps_per_epoch = images_per_class_train * n_classes / batch_size,\\n                epochs=20,\\n                validation_data = test_batches,\\n                validation_steps= images_per_class_test * n_classes / batch_size,               \\n  )\\n\\n  metrics = {'optimizer' : optimizer, 'history' : hist.history}\\n\\n  gs.append(metrics)\\n\\n# Choose the best optimizer based in the best F1 Score\\nhighest_f1 = 0\\nfor combination in gs:\\n  optimizer = combination['optimizer']\\n  history = combination['history']\\n\\n  f1_score = history['f1_m'][-1] # Takes the last F1 Score (from the last epoch)\\n\\n  if(f1_score > highest_f1):\\n    highest_f1 = f1_score\\n    best_optimizer = optimizer\\n\""
            ]
          },
          "execution_count": 31,
          "metadata": {},
          "output_type": "execute_result"
        }
      ],
      "source": [
        "'''\n",
        "gs = []\n",
        "for param in param_grid:\n",
        "  optimizer = param['optimizer']\n",
        "\n",
        "  model = get_model(optimizer=optimizer)\n",
        "\n",
        "  hist = model.fit(\n",
        "                train_batches,\n",
        "                steps_per_epoch = images_per_class_train * n_classes / batch_size,\n",
        "                epochs=20,\n",
        "                validation_data = test_batches,\n",
        "                validation_steps= images_per_class_test * n_classes / batch_size,               \n",
        "  )\n",
        "\n",
        "  metrics = {'optimizer' : optimizer, 'history' : hist.history}\n",
        "\n",
        "  gs.append(metrics)\n",
        "\n",
        "# Choose the best optimizer based in the best F1 Score\n",
        "highest_f1 = 0\n",
        "for combination in gs:\n",
        "  optimizer = combination['optimizer']\n",
        "  history = combination['history']\n",
        "\n",
        "  f1_score = history['f1_m'][-1] # Takes the last F1 Score (from the last epoch)\n",
        "\n",
        "  if(f1_score > highest_f1):\n",
        "    highest_f1 = f1_score\n",
        "    best_optimizer = optimizer\n",
        "'''"
      ]
    },
    {
      "cell_type": "code",
      "execution_count": null,
      "metadata": {
        "id": "BVXTdWIZG4Wh"
      },
      "outputs": [],
      "source": [
        "best_optimizer = 'Nadam'"
      ]
    },
    {
      "cell_type": "markdown",
      "metadata": {
        "id": "mSfuCO7LrhN6"
      },
      "source": [
        "\n",
        "\n",
        "## Training the model using the GS Best Parameters\n",
        "\n"
      ]
    },
    {
      "cell_type": "code",
      "execution_count": null,
      "metadata": {
        "colab": {
          "base_uri": "https://localhost:8080/"
        },
        "id": "UnCdoKZprgKh",
        "outputId": "828a6122-ca57-4624-95d4-5cea0a3fa0b8"
      },
      "outputs": [
        {
          "name": "stdout",
          "output_type": "stream",
          "text": [
            "Model: \"sequential\"\n",
            "_________________________________________________________________\n",
            " Layer (type)                Output Shape              Param #   \n",
            "=================================================================\n",
            " conv2d (Conv2D)             (None, 110, 110, 32)      2432      \n",
            "                                                                 \n",
            " batch_normalization (BatchN  (None, 110, 110, 32)     96        \n",
            " ormalization)                                                   \n",
            "                                                                 \n",
            " activation (Activation)     (None, 110, 110, 32)      0         \n",
            "                                                                 \n",
            " conv2d_1 (Conv2D)           (None, 53, 53, 32)        25632     \n",
            "                                                                 \n",
            " batch_normalization_1 (Batc  (None, 53, 53, 32)       96        \n",
            " hNormalization)                                                 \n",
            "                                                                 \n",
            " activation_1 (Activation)   (None, 53, 53, 32)        0         \n",
            "                                                                 \n",
            " conv2d_2 (Conv2D)           (None, 25, 25, 64)        51264     \n",
            "                                                                 \n",
            " batch_normalization_2 (Batc  (None, 25, 25, 64)       192       \n",
            " hNormalization)                                                 \n",
            "                                                                 \n",
            " activation_2 (Activation)   (None, 25, 25, 64)        0         \n",
            "                                                                 \n",
            " max_pooling2d (MaxPooling2D  (None, 12, 12, 64)       0         \n",
            " )                                                               \n",
            "                                                                 \n",
            " conv2d_3 (Conv2D)           (None, 5, 5, 64)          36928     \n",
            "                                                                 \n",
            " batch_normalization_3 (Batc  (None, 5, 5, 64)         192       \n",
            " hNormalization)                                                 \n",
            "                                                                 \n",
            " activation_3 (Activation)   (None, 5, 5, 64)          0         \n",
            "                                                                 \n",
            " conv2d_4 (Conv2D)           (None, 2, 2, 64)          36928     \n",
            "                                                                 \n",
            " batch_normalization_4 (Batc  (None, 2, 2, 64)         192       \n",
            " hNormalization)                                                 \n",
            "                                                                 \n",
            " activation_4 (Activation)   (None, 2, 2, 64)          0         \n",
            "                                                                 \n",
            " flatten (Flatten)           (None, 256)               0         \n",
            "                                                                 \n",
            " dense (Dense)               (None, 10)                2570      \n",
            "                                                                 \n",
            "=================================================================\n",
            "Total params: 156,522\n",
            "Trainable params: 156,010\n",
            "Non-trainable params: 512\n",
            "_________________________________________________________________\n",
            "Epoch 1/20\n",
            "234/234 [==============================] - 97s 274ms/step - loss: 1.8857 - accuracy: 0.3412 - f1_m: 0.1910 - recall_m: 0.1178 - precision_m: 0.5784 - val_loss: 1.8069 - val_accuracy: 0.3632 - val_f1_m: 0.2674 - val_recall_m: 0.1748 - val_precision_m: 0.6017\n",
            "Epoch 2/20\n",
            "234/234 [==============================] - 56s 237ms/step - loss: 1.5920 - accuracy: 0.4432 - f1_m: 0.3217 - recall_m: 0.2141 - precision_m: 0.6791 - val_loss: 1.7015 - val_accuracy: 0.3944 - val_f1_m: 0.3044 - val_recall_m: 0.2089 - val_precision_m: 0.5819\n",
            "Epoch 3/20\n",
            "234/234 [==============================] - 55s 234ms/step - loss: 1.4729 - accuracy: 0.4817 - f1_m: 0.3853 - recall_m: 0.2664 - precision_m: 0.7198 - val_loss: 1.4791 - val_accuracy: 0.4736 - val_f1_m: 0.3996 - val_recall_m: 0.2809 - val_precision_m: 0.7169\n",
            "Epoch 4/20\n",
            "234/234 [==============================] - 54s 232ms/step - loss: 1.3873 - accuracy: 0.5139 - f1_m: 0.4292 - recall_m: 0.3045 - precision_m: 0.7475 - val_loss: 1.4307 - val_accuracy: 0.5092 - val_f1_m: 0.4611 - val_recall_m: 0.3469 - val_precision_m: 0.7033\n",
            "Epoch 5/20\n",
            "234/234 [==============================] - 54s 232ms/step - loss: 1.3064 - accuracy: 0.5456 - f1_m: 0.4673 - recall_m: 0.3423 - precision_m: 0.7529 - val_loss: 2.1359 - val_accuracy: 0.3304 - val_f1_m: 0.2989 - val_recall_m: 0.2346 - val_precision_m: 0.4192\n",
            "Epoch 6/20\n",
            "234/234 [==============================] - 54s 231ms/step - loss: 1.2275 - accuracy: 0.5712 - f1_m: 0.5043 - recall_m: 0.3785 - precision_m: 0.7700 - val_loss: 1.4712 - val_accuracy: 0.4944 - val_f1_m: 0.4651 - val_recall_m: 0.3655 - val_precision_m: 0.6486\n",
            "Epoch 7/20\n",
            "234/234 [==============================] - 55s 233ms/step - loss: 1.1532 - accuracy: 0.5987 - f1_m: 0.5374 - recall_m: 0.4141 - precision_m: 0.7769 - val_loss: 2.2622 - val_accuracy: 0.3944 - val_f1_m: 0.3642 - val_recall_m: 0.3121 - val_precision_m: 0.4412\n",
            "Epoch 8/20\n",
            "234/234 [==============================] - 54s 232ms/step - loss: 1.0774 - accuracy: 0.6317 - f1_m: 0.5771 - recall_m: 0.4590 - precision_m: 0.7881 - val_loss: 1.4122 - val_accuracy: 0.5192 - val_f1_m: 0.4783 - val_recall_m: 0.3825 - val_precision_m: 0.6465\n",
            "Epoch 9/20\n",
            "234/234 [==============================] - 54s 232ms/step - loss: 1.0103 - accuracy: 0.6567 - f1_m: 0.6079 - recall_m: 0.4946 - precision_m: 0.7965 - val_loss: 1.4942 - val_accuracy: 0.4940 - val_f1_m: 0.4733 - val_recall_m: 0.3881 - val_precision_m: 0.6133\n",
            "Epoch 10/20\n",
            "234/234 [==============================] - 54s 231ms/step - loss: 0.9388 - accuracy: 0.6764 - f1_m: 0.6398 - recall_m: 0.5282 - precision_m: 0.8189 - val_loss: 1.3108 - val_accuracy: 0.5632 - val_f1_m: 0.5408 - val_recall_m: 0.4498 - val_precision_m: 0.6840\n",
            "Epoch 11/20\n",
            "234/234 [==============================] - 54s 229ms/step - loss: 0.8799 - accuracy: 0.7023 - f1_m: 0.6708 - recall_m: 0.5653 - precision_m: 0.8322 - val_loss: 1.4120 - val_accuracy: 0.5496 - val_f1_m: 0.5421 - val_recall_m: 0.4703 - val_precision_m: 0.6435\n",
            "Epoch 12/20\n",
            "234/234 [==============================] - 54s 231ms/step - loss: 0.8098 - accuracy: 0.7261 - f1_m: 0.7012 - recall_m: 0.6036 - precision_m: 0.8422 - val_loss: 1.6061 - val_accuracy: 0.4812 - val_f1_m: 0.4585 - val_recall_m: 0.3801 - val_precision_m: 0.5833\n",
            "Epoch 13/20\n",
            "234/234 [==============================] - 55s 236ms/step - loss: 0.7537 - accuracy: 0.7440 - f1_m: 0.7232 - recall_m: 0.6332 - precision_m: 0.8481 - val_loss: 1.6136 - val_accuracy: 0.5240 - val_f1_m: 0.5182 - val_recall_m: 0.4529 - val_precision_m: 0.6097\n",
            "Epoch 14/20\n",
            "234/234 [==============================] - 55s 235ms/step - loss: 0.6802 - accuracy: 0.7725 - f1_m: 0.7556 - recall_m: 0.6713 - precision_m: 0.8688 - val_loss: 1.4483 - val_accuracy: 0.5376 - val_f1_m: 0.5216 - val_recall_m: 0.4438 - val_precision_m: 0.6387\n",
            "Epoch 15/20\n",
            "234/234 [==============================] - 54s 229ms/step - loss: 0.6211 - accuracy: 0.7948 - f1_m: 0.7801 - recall_m: 0.7011 - precision_m: 0.8834 - val_loss: 1.4941 - val_accuracy: 0.5424 - val_f1_m: 0.5372 - val_recall_m: 0.4751 - val_precision_m: 0.6217\n",
            "Epoch 16/20\n",
            "234/234 [==============================] - 53s 225ms/step - loss: 0.5698 - accuracy: 0.8124 - f1_m: 0.7991 - recall_m: 0.7287 - precision_m: 0.8873 - val_loss: 1.4173 - val_accuracy: 0.5468 - val_f1_m: 0.5455 - val_recall_m: 0.4794 - val_precision_m: 0.6361\n",
            "Epoch 17/20\n",
            "234/234 [==============================] - 53s 225ms/step - loss: 0.5336 - accuracy: 0.8183 - f1_m: 0.8145 - recall_m: 0.7510 - precision_m: 0.8927 - val_loss: 1.3888 - val_accuracy: 0.5716 - val_f1_m: 0.5570 - val_recall_m: 0.5004 - val_precision_m: 0.6313\n",
            "Epoch 18/20\n",
            "234/234 [==============================] - 52s 222ms/step - loss: 0.4794 - accuracy: 0.8445 - f1_m: 0.8365 - recall_m: 0.7814 - precision_m: 0.9022 - val_loss: 1.5680 - val_accuracy: 0.5288 - val_f1_m: 0.5152 - val_recall_m: 0.4660 - val_precision_m: 0.5792\n",
            "Epoch 19/20\n",
            "234/234 [==============================] - 53s 224ms/step - loss: 0.4247 - accuracy: 0.8644 - f1_m: 0.8582 - recall_m: 0.8076 - precision_m: 0.9176 - val_loss: 1.5045 - val_accuracy: 0.5576 - val_f1_m: 0.5527 - val_recall_m: 0.4972 - val_precision_m: 0.6246\n",
            "Epoch 20/20\n",
            "234/234 [==============================] - 52s 221ms/step - loss: 0.3957 - accuracy: 0.8716 - f1_m: 0.8678 - recall_m: 0.8224 - precision_m: 0.9205 - val_loss: 1.5107 - val_accuracy: 0.5720 - val_f1_m: 0.5683 - val_recall_m: 0.5233 - val_precision_m: 0.6240\n"
          ]
        }
      ],
      "source": [
        "model = get_model(best_optimizer)\n",
        "\n",
        "hist = model.fit(\n",
        "                train_batches,\n",
        "                steps_per_epoch = images_per_class_train * n_classes / batch_size,\n",
        "                epochs=20,\n",
        "                validation_data = test_batches,\n",
        "                validation_steps= images_per_class_test * n_classes / batch_size,               \n",
        "  )"
      ]
    },
    {
      "cell_type": "markdown",
      "metadata": {
        "id": "tuRp1tUwW8Be"
      },
      "source": [
        "## Forecasting Data"
      ]
    },
    {
      "cell_type": "markdown",
      "metadata": {
        "id": "DSoItmm3Q8vD"
      },
      "source": [
        "## Displaying the learning curve\n",
        "\n",
        "Reference: https://vitalflux.com/python-keras-learning-validation-curve-classification-model/\n"
      ]
    },
    {
      "cell_type": "code",
      "execution_count": null,
      "metadata": {
        "colab": {
          "base_uri": "https://localhost:8080/",
          "height": 429
        },
        "id": "yZGh6UG5XRDB",
        "outputId": "4051a652-8034-4b95-bb73-5b6b95c7e693"
      },
      "outputs": [
        {
          "data": {
            "text/plain": [
              "<matplotlib.legend.Legend at 0x7fae801f6690>"
            ]
          },
          "execution_count": 34,
          "metadata": {},
          "output_type": "execute_result"
        },
        {
          "data": {
            "image/png": "[encoded data removed]",
            "text/plain": [
              "<Figure size 1008x432 with 2 Axes>"
            ]
          },
          "metadata": {
            "needs_background": "light"
          },
          "output_type": "display_data"
        }
      ],
      "source": [
        "history_dict = hist.history\n",
        "loss_values = history_dict['loss']\n",
        "val_loss_values = history_dict['val_loss']\n",
        "accuracy = history_dict['accuracy']\n",
        "val_accuracy = history_dict['val_accuracy']\n",
        " \n",
        "epochs = range(1, len(loss_values) + 1)\n",
        "fig, ax = plt.subplots(1, 2, figsize=(14, 6))\n",
        "\n",
        "# Plot the model accuracy vs Epochs\n",
        "ax[0].plot(epochs, accuracy, 'bo', label='Training accuracy')\n",
        "ax[0].plot(epochs, val_accuracy, 'b', label='Validation accuracy')\n",
        "ax[0].set_title('Training & Validation Accuracy', fontsize=16)\n",
        "ax[0].set_xlabel('Epochs', fontsize=16)\n",
        "ax[0].set_ylabel('Accuracy', fontsize=16)\n",
        "ax[0].legend()\n",
        "\n",
        "# Plot the loss vs Epochs\n",
        "ax[1].plot(epochs, loss_values, 'bo', label='Training loss')\n",
        "ax[1].plot(epochs, val_loss_values, 'b', label='Validation loss')\n",
        "ax[1].set_title('Training & Validation Loss', fontsize=16)\n",
        "ax[1].set_xlabel('Epochs', fontsize=16)\n",
        "ax[1].set_ylabel('Loss', fontsize=16)\n",
        "ax[1].legend()"
      ]
    },
    {
      "cell_type": "code",
      "execution_count": null,
      "metadata": {
        "id": "E72lszfr4R2d"
      },
      "outputs": [],
      "source": []
    }
  ],
  "metadata": {
    "accelerator": "GPU",
    "colab": {
      "collapsed_sections": [],
      "name": "Week5_Assignment.ipynb",
      "provenance": []
    },
    "kernelspec": {
      "display_name": "Python 3",
      "name": "python3"
    },
    "language_info": {
      "name": "python"
    }
  },
  "nbformat": 4,
  "nbformat_minor": 0
}
