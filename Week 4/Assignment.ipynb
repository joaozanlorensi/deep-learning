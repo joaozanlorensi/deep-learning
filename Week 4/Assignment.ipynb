{
  "cells": [
    {
      "cell_type": "code",
      "execution_count": 1,
      "metadata": {
        "id": "zRQXVDpYnOyy"
      },
      "outputs": [],
      "source": [
        "import pandas as pd\n",
        "from pandas_profiling import ProfileReport\n",
        "import matplotlib.pyplot as plt\n",
        "from sklearn.model_selection import train_test_split\n",
        "from sklearn.preprocessing import StandardScaler\n",
        "from sklearn.model_selection import GridSearchCV\n",
        "from sklearn.metrics import plot_confusion_matrix, confusion_matrix\n",
        "import numpy as np\n",
        "import keras\n",
        "from keras.datasets import mnist\n",
        "from keras.models import Sequential\n",
        "from keras.layers import Dense, Dropout\n",
        "from keras.utils import np_utils\n",
        "from tensorflow.keras.optimizers import RMSprop\n",
        "from tensorflow.keras.wrappers.scikit_learn import KerasClassifier"
      ]
    },
    {
      "cell_type": "markdown",
      "metadata": {},
      "source": [
        "# Step 0: Read the train dataset and get a general idea on how it looks like"
      ]
    },
    {
      "cell_type": "code",
      "execution_count": 2,
      "metadata": {
        "colab": {
          "base_uri": "https://localhost:8080/",
          "height": 206
        },
        "id": "lZ-wmz-InOy7",
        "outputId": "5e3be5b3-8b88-4d8f-b7c6-d73a926d635b"
      },
      "outputs": [
        {
          "data": {
            "text/html": [
              "<div>\n",
              "<style scoped>\n",
              "    .dataframe tbody tr th:only-of-type {\n",
              "        vertical-align: middle;\n",
              "    }\n",
              "\n",
              "    .dataframe tbody tr th {\n",
              "        vertical-align: top;\n",
              "    }\n",
              "\n",
              "    .dataframe thead th {\n",
              "        text-align: right;\n",
              "    }\n",
              "</style>\n",
              "<table border=\"1\" class=\"dataframe\">\n",
              "  <thead>\n",
              "    <tr style=\"text-align: right;\">\n",
              "      <th></th>\n",
              "      <th>PassengerId</th>\n",
              "      <th>Survived</th>\n",
              "      <th>Pclass</th>\n",
              "      <th>Name</th>\n",
              "      <th>Sex</th>\n",
              "      <th>Age</th>\n",
              "      <th>SibSp</th>\n",
              "      <th>Parch</th>\n",
              "      <th>Ticket</th>\n",
              "      <th>Fare</th>\n",
              "      <th>Cabin</th>\n",
              "      <th>Embarked</th>\n",
              "    </tr>\n",
              "  </thead>\n",
              "  <tbody>\n",
              "    <tr>\n",
              "      <th>0</th>\n",
              "      <td>1</td>\n",
              "      <td>0</td>\n",
              "      <td>3</td>\n",
              "      <td>Braund, Mr. Owen Harris</td>\n",
              "      <td>male</td>\n",
              "      <td>22.0</td>\n",
              "      <td>1</td>\n",
              "      <td>0</td>\n",
              "      <td>A/5 21171</td>\n",
              "      <td>7.2500</td>\n",
              "      <td>NaN</td>\n",
              "      <td>S</td>\n",
              "    </tr>\n",
              "    <tr>\n",
              "      <th>1</th>\n",
              "      <td>2</td>\n",
              "      <td>1</td>\n",
              "      <td>1</td>\n",
              "      <td>Cumings, Mrs. John Bradley (Florence Briggs Th...</td>\n",
              "      <td>female</td>\n",
              "      <td>38.0</td>\n",
              "      <td>1</td>\n",
              "      <td>0</td>\n",
              "      <td>PC 17599</td>\n",
              "      <td>71.2833</td>\n",
              "      <td>C85</td>\n",
              "      <td>C</td>\n",
              "    </tr>\n",
              "    <tr>\n",
              "      <th>2</th>\n",
              "      <td>3</td>\n",
              "      <td>1</td>\n",
              "      <td>3</td>\n",
              "      <td>Heikkinen, Miss. Laina</td>\n",
              "      <td>female</td>\n",
              "      <td>26.0</td>\n",
              "      <td>0</td>\n",
              "      <td>0</td>\n",
              "      <td>STON/O2. 3101282</td>\n",
              "      <td>7.9250</td>\n",
              "      <td>NaN</td>\n",
              "      <td>S</td>\n",
              "    </tr>\n",
              "    <tr>\n",
              "      <th>3</th>\n",
              "      <td>4</td>\n",
              "      <td>1</td>\n",
              "      <td>1</td>\n",
              "      <td>Futrelle, Mrs. Jacques Heath (Lily May Peel)</td>\n",
              "      <td>female</td>\n",
              "      <td>35.0</td>\n",
              "      <td>1</td>\n",
              "      <td>0</td>\n",
              "      <td>113803</td>\n",
              "      <td>53.1000</td>\n",
              "      <td>C123</td>\n",
              "      <td>S</td>\n",
              "    </tr>\n",
              "    <tr>\n",
              "      <th>4</th>\n",
              "      <td>5</td>\n",
              "      <td>0</td>\n",
              "      <td>3</td>\n",
              "      <td>Allen, Mr. William Henry</td>\n",
              "      <td>male</td>\n",
              "      <td>35.0</td>\n",
              "      <td>0</td>\n",
              "      <td>0</td>\n",
              "      <td>373450</td>\n",
              "      <td>8.0500</td>\n",
              "      <td>NaN</td>\n",
              "      <td>S</td>\n",
              "    </tr>\n",
              "  </tbody>\n",
              "</table>\n",
              "</div>"
            ],
            "text/plain": [
              "   PassengerId  Survived  Pclass  \\\n",
              "0            1         0       3   \n",
              "1            2         1       1   \n",
              "2            3         1       3   \n",
              "3            4         1       1   \n",
              "4            5         0       3   \n",
              "\n",
              "                                                Name     Sex   Age  SibSp  \\\n",
              "0                            Braund, Mr. Owen Harris    male  22.0      1   \n",
              "1  Cumings, Mrs. John Bradley (Florence Briggs Th...  female  38.0      1   \n",
              "2                             Heikkinen, Miss. Laina  female  26.0      0   \n",
              "3       Futrelle, Mrs. Jacques Heath (Lily May Peel)  female  35.0      1   \n",
              "4                           Allen, Mr. William Henry    male  35.0      0   \n",
              "\n",
              "   Parch            Ticket     Fare Cabin Embarked  \n",
              "0      0         A/5 21171   7.2500   NaN        S  \n",
              "1      0          PC 17599  71.2833   C85        C  \n",
              "2      0  STON/O2. 3101282   7.9250   NaN        S  \n",
              "3      0            113803  53.1000  C123        S  \n",
              "4      0            373450   8.0500   NaN        S  "
            ]
          },
          "execution_count": 2,
          "metadata": {},
          "output_type": "execute_result"
        }
      ],
      "source": [
        "df = pd.read_csv('Data/train.csv')\n",
        "df.head()"
      ]
    },
    {
      "cell_type": "markdown",
      "metadata": {
        "id": "5iPNjzZ-nOzA"
      },
      "source": [
        "# Step 1: Understand the general profile of this dataset and how consistently populated are its features"
      ]
    },
    {
      "cell_type": "code",
      "execution_count": 3,
      "metadata": {
        "id": "EGbO8ZyfnOzB"
      },
      "outputs": [],
      "source": [
        "#profile = ProfileReport(df, title=\"Pandas Profiling Report\", explorative=True)\n",
        "#profile.to_file('RawDataProfile.html')"
      ]
    },
    {
      "cell_type": "code",
      "execution_count": 4,
      "metadata": {
        "id": "5JTnT1dynOzC"
      },
      "outputs": [],
      "source": [
        "# There are many blanks in the 'Age' and in the 'Cabin' columns - Populating these features would be a bit troublesome - Discarding is an option for the Cabin column, since the amount of nulls is significantly higher"
      ]
    },
    {
      "cell_type": "markdown",
      "metadata": {
        "id": "wPg8HapRnOzC"
      },
      "source": [
        "# Step 2: Feature Engineering - Curating and adding new features from the raw data"
      ]
    },
    {
      "cell_type": "code",
      "execution_count": 5,
      "metadata": {
        "id": "dn8c7jdLnOzD"
      },
      "outputs": [],
      "source": [
        "# Adding two new features: Family and Entitlement"
      ]
    },
    {
      "cell_type": "code",
      "execution_count": 6,
      "metadata": {
        "id": "bWEfsBJynOzD"
      },
      "outputs": [],
      "source": [
        "df['Family'] = df['Name'].str.split(',').str.get(0)\n",
        "df['Entitlement'] = df['Name'].str.split(',').str.get(1).str.split(' ').str.get(1)"
      ]
    },
    {
      "cell_type": "code",
      "execution_count": 7,
      "metadata": {
        "colab": {
          "base_uri": "https://localhost:8080/"
        },
        "id": "k1HysZwXnOzE",
        "outputId": "25d0e024-13c7-4cfd-ec07-bc04966c8a63"
      },
      "outputs": [
        {
          "data": {
            "text/plain": [
              "array(['Mr.', 'Mrs.', 'Miss.', 'Master.', 'Don.', 'Rev.', 'Dr.', 'Mme.',\n",
              "       'Ms.', 'Major.', 'Lady.', 'Sir.', 'Mlle.', 'Col.', 'Capt.', 'the',\n",
              "       'Jonkheer.'], dtype=object)"
            ]
          },
          "execution_count": 7,
          "metadata": {},
          "output_type": "execute_result"
        }
      ],
      "source": [
        "df['Entitlement'].unique()"
      ]
    },
    {
      "cell_type": "code",
      "execution_count": 8,
      "metadata": {
        "colab": {
          "base_uri": "https://localhost:8080/",
          "height": 206
        },
        "id": "_NJhUmAMnOzF",
        "outputId": "bb2f9a06-2028-4ba4-cfe7-b3ab1ea3abe0"
      },
      "outputs": [
        {
          "data": {
            "text/html": [
              "<div>\n",
              "<style scoped>\n",
              "    .dataframe tbody tr th:only-of-type {\n",
              "        vertical-align: middle;\n",
              "    }\n",
              "\n",
              "    .dataframe tbody tr th {\n",
              "        vertical-align: top;\n",
              "    }\n",
              "\n",
              "    .dataframe thead th {\n",
              "        text-align: right;\n",
              "    }\n",
              "</style>\n",
              "<table border=\"1\" class=\"dataframe\">\n",
              "  <thead>\n",
              "    <tr style=\"text-align: right;\">\n",
              "      <th></th>\n",
              "      <th>Family</th>\n",
              "      <th>FamilySize</th>\n",
              "    </tr>\n",
              "  </thead>\n",
              "  <tbody>\n",
              "    <tr>\n",
              "      <th>16</th>\n",
              "      <td>Andersson</td>\n",
              "      <td>9</td>\n",
              "    </tr>\n",
              "    <tr>\n",
              "      <th>532</th>\n",
              "      <td>Sage</td>\n",
              "      <td>7</td>\n",
              "    </tr>\n",
              "    <tr>\n",
              "      <th>563</th>\n",
              "      <td>Skoog</td>\n",
              "      <td>6</td>\n",
              "    </tr>\n",
              "    <tr>\n",
              "      <th>100</th>\n",
              "      <td>Carter</td>\n",
              "      <td>6</td>\n",
              "    </tr>\n",
              "    <tr>\n",
              "      <th>220</th>\n",
              "      <td>Goodwin</td>\n",
              "      <td>6</td>\n",
              "    </tr>\n",
              "  </tbody>\n",
              "</table>\n",
              "</div>"
            ],
            "text/plain": [
              "        Family  FamilySize\n",
              "16   Andersson           9\n",
              "532       Sage           7\n",
              "563      Skoog           6\n",
              "100     Carter           6\n",
              "220    Goodwin           6"
            ]
          },
          "execution_count": 8,
          "metadata": {},
          "output_type": "execute_result"
        }
      ],
      "source": [
        "# Trying to get an idea of how many people there are in each family\n",
        "df[['Family', 'Name']].groupby('Family').size().reset_index(name='FamilySize').sort_values(by=['FamilySize'], ascending=False).head()"
      ]
    },
    {
      "cell_type": "code",
      "execution_count": 9,
      "metadata": {
        "colab": {
          "base_uri": "https://localhost:8080/",
          "height": 206
        },
        "id": "70bfaCQgnOzI",
        "outputId": "b1a58dca-0f75-492a-c3b2-feb6f74e306f"
      },
      "outputs": [
        {
          "data": {
            "text/html": [
              "<div>\n",
              "<style scoped>\n",
              "    .dataframe tbody tr th:only-of-type {\n",
              "        vertical-align: middle;\n",
              "    }\n",
              "\n",
              "    .dataframe tbody tr th {\n",
              "        vertical-align: top;\n",
              "    }\n",
              "\n",
              "    .dataframe thead th {\n",
              "        text-align: right;\n",
              "    }\n",
              "</style>\n",
              "<table border=\"1\" class=\"dataframe\">\n",
              "  <thead>\n",
              "    <tr style=\"text-align: right;\">\n",
              "      <th></th>\n",
              "      <th>Entitlement</th>\n",
              "      <th>qt</th>\n",
              "    </tr>\n",
              "  </thead>\n",
              "  <tbody>\n",
              "    <tr>\n",
              "      <th>11</th>\n",
              "      <td>Mr.</td>\n",
              "      <td>517</td>\n",
              "    </tr>\n",
              "    <tr>\n",
              "      <th>8</th>\n",
              "      <td>Miss.</td>\n",
              "      <td>182</td>\n",
              "    </tr>\n",
              "    <tr>\n",
              "      <th>12</th>\n",
              "      <td>Mrs.</td>\n",
              "      <td>125</td>\n",
              "    </tr>\n",
              "    <tr>\n",
              "      <th>7</th>\n",
              "      <td>Master.</td>\n",
              "      <td>40</td>\n",
              "    </tr>\n",
              "    <tr>\n",
              "      <th>3</th>\n",
              "      <td>Dr.</td>\n",
              "      <td>7</td>\n",
              "    </tr>\n",
              "  </tbody>\n",
              "</table>\n",
              "</div>"
            ],
            "text/plain": [
              "   Entitlement   qt\n",
              "11         Mr.  517\n",
              "8        Miss.  182\n",
              "12        Mrs.  125\n",
              "7      Master.   40\n",
              "3          Dr.    7"
            ]
          },
          "execution_count": 9,
          "metadata": {},
          "output_type": "execute_result"
        }
      ],
      "source": [
        "# Trying to get an idea of how many people there are by entitlement\n",
        "df[['Entitlement', 'Name']].groupby('Entitlement').size().reset_index(name='qt').sort_values(by=['qt'], ascending=False).head()"
      ]
    },
    {
      "cell_type": "code",
      "execution_count": 10,
      "metadata": {
        "colab": {
          "base_uri": "https://localhost:8080/",
          "height": 206
        },
        "id": "eD1LvAUonOzK",
        "outputId": "6e2f3dbd-186c-4ee2-f134-e343f22f9cd1"
      },
      "outputs": [
        {
          "data": {
            "text/html": [
              "<div>\n",
              "<style scoped>\n",
              "    .dataframe tbody tr th:only-of-type {\n",
              "        vertical-align: middle;\n",
              "    }\n",
              "\n",
              "    .dataframe tbody tr th {\n",
              "        vertical-align: top;\n",
              "    }\n",
              "\n",
              "    .dataframe thead th {\n",
              "        text-align: right;\n",
              "    }\n",
              "</style>\n",
              "<table border=\"1\" class=\"dataframe\">\n",
              "  <thead>\n",
              "    <tr style=\"text-align: right;\">\n",
              "      <th></th>\n",
              "      <th>Family</th>\n",
              "      <th>Survived</th>\n",
              "    </tr>\n",
              "  </thead>\n",
              "  <tbody>\n",
              "    <tr>\n",
              "      <th>100</th>\n",
              "      <td>Carter</td>\n",
              "      <td>4</td>\n",
              "    </tr>\n",
              "    <tr>\n",
              "      <th>32</th>\n",
              "      <td>Baclini</td>\n",
              "      <td>4</td>\n",
              "    </tr>\n",
              "    <tr>\n",
              "      <th>292</th>\n",
              "      <td>Johnson</td>\n",
              "      <td>3</td>\n",
              "    </tr>\n",
              "    <tr>\n",
              "      <th>306</th>\n",
              "      <td>Kelly</td>\n",
              "      <td>3</td>\n",
              "    </tr>\n",
              "    <tr>\n",
              "      <th>239</th>\n",
              "      <td>Harper</td>\n",
              "      <td>3</td>\n",
              "    </tr>\n",
              "  </tbody>\n",
              "</table>\n",
              "</div>"
            ],
            "text/plain": [
              "      Family  Survived\n",
              "100   Carter         4\n",
              "32   Baclini         4\n",
              "292  Johnson         3\n",
              "306    Kelly         3\n",
              "239   Harper         3"
            ]
          },
          "execution_count": 10,
          "metadata": {},
          "output_type": "execute_result"
        }
      ],
      "source": [
        "# Trying to get an idea of how many people survived in each family\n",
        "df['Survived'] = df['Survived'].astype('int32')\n",
        "df[['Family', 'Survived']].groupby('Family').sum().reset_index().sort_values(by=['Survived'], ascending=False).head()"
      ]
    },
    {
      "cell_type": "code",
      "execution_count": 11,
      "metadata": {
        "colab": {
          "base_uri": "https://localhost:8080/",
          "height": 206
        },
        "id": "LC2mL2gdnOzL",
        "outputId": "0540cd0d-5a68-4802-aa4f-9d40196a32e1"
      },
      "outputs": [
        {
          "data": {
            "text/html": [
              "<div>\n",
              "<style scoped>\n",
              "    .dataframe tbody tr th:only-of-type {\n",
              "        vertical-align: middle;\n",
              "    }\n",
              "\n",
              "    .dataframe tbody tr th {\n",
              "        vertical-align: top;\n",
              "    }\n",
              "\n",
              "    .dataframe thead th {\n",
              "        text-align: right;\n",
              "    }\n",
              "</style>\n",
              "<table border=\"1\" class=\"dataframe\">\n",
              "  <thead>\n",
              "    <tr style=\"text-align: right;\">\n",
              "      <th></th>\n",
              "      <th>Entitlement</th>\n",
              "      <th>Survived</th>\n",
              "    </tr>\n",
              "  </thead>\n",
              "  <tbody>\n",
              "    <tr>\n",
              "      <th>8</th>\n",
              "      <td>Miss.</td>\n",
              "      <td>127</td>\n",
              "    </tr>\n",
              "    <tr>\n",
              "      <th>12</th>\n",
              "      <td>Mrs.</td>\n",
              "      <td>99</td>\n",
              "    </tr>\n",
              "    <tr>\n",
              "      <th>11</th>\n",
              "      <td>Mr.</td>\n",
              "      <td>81</td>\n",
              "    </tr>\n",
              "    <tr>\n",
              "      <th>7</th>\n",
              "      <td>Master.</td>\n",
              "      <td>23</td>\n",
              "    </tr>\n",
              "    <tr>\n",
              "      <th>3</th>\n",
              "      <td>Dr.</td>\n",
              "      <td>3</td>\n",
              "    </tr>\n",
              "  </tbody>\n",
              "</table>\n",
              "</div>"
            ],
            "text/plain": [
              "   Entitlement  Survived\n",
              "8        Miss.       127\n",
              "12        Mrs.        99\n",
              "11         Mr.        81\n",
              "7      Master.        23\n",
              "3          Dr.         3"
            ]
          },
          "execution_count": 11,
          "metadata": {},
          "output_type": "execute_result"
        }
      ],
      "source": [
        "# Trying to get an idea of how many people survived by each entitlement\n",
        "df[['Entitlement', 'Survived']].groupby('Entitlement').sum().reset_index().sort_values(by=['Survived'], ascending=False).head()"
      ]
    },
    {
      "cell_type": "code",
      "execution_count": 12,
      "metadata": {
        "id": "8Ofl46GunOzP"
      },
      "outputs": [],
      "source": [
        "# Idea: add a column named 'FamilySize' to the original dataframe\n",
        "df_family = df[['Family', 'Name']].groupby('Family').size().reset_index(name='FamilySize')\n",
        "df = pd.merge(df, df_family, on='Family', how='left')"
      ]
    },
    {
      "cell_type": "code",
      "execution_count": 13,
      "metadata": {
        "id": "TBiNXLs7nOzQ"
      },
      "outputs": [],
      "source": [
        "# Removing the 'Name' and the 'Family' columns now as they became unnecessary\n",
        "df.drop('Name', axis=1, inplace=True)\n",
        "df.drop('Family', axis=1, inplace=True)"
      ]
    },
    {
      "cell_type": "code",
      "execution_count": 14,
      "metadata": {
        "colab": {
          "base_uri": "https://localhost:8080/",
          "height": 206
        },
        "id": "-8-EIBDBnOzR",
        "outputId": "97fffd75-8ca2-40f9-df26-8a73730d9630"
      },
      "outputs": [
        {
          "data": {
            "text/html": [
              "<div>\n",
              "<style scoped>\n",
              "    .dataframe tbody tr th:only-of-type {\n",
              "        vertical-align: middle;\n",
              "    }\n",
              "\n",
              "    .dataframe tbody tr th {\n",
              "        vertical-align: top;\n",
              "    }\n",
              "\n",
              "    .dataframe thead th {\n",
              "        text-align: right;\n",
              "    }\n",
              "</style>\n",
              "<table border=\"1\" class=\"dataframe\">\n",
              "  <thead>\n",
              "    <tr style=\"text-align: right;\">\n",
              "      <th></th>\n",
              "      <th>SibSp</th>\n",
              "      <th>Parch</th>\n",
              "      <th>FamilySize</th>\n",
              "    </tr>\n",
              "  </thead>\n",
              "  <tbody>\n",
              "    <tr>\n",
              "      <th>0</th>\n",
              "      <td>1</td>\n",
              "      <td>0</td>\n",
              "      <td>2</td>\n",
              "    </tr>\n",
              "    <tr>\n",
              "      <th>1</th>\n",
              "      <td>1</td>\n",
              "      <td>0</td>\n",
              "      <td>1</td>\n",
              "    </tr>\n",
              "    <tr>\n",
              "      <th>2</th>\n",
              "      <td>0</td>\n",
              "      <td>0</td>\n",
              "      <td>1</td>\n",
              "    </tr>\n",
              "    <tr>\n",
              "      <th>4</th>\n",
              "      <td>0</td>\n",
              "      <td>0</td>\n",
              "      <td>2</td>\n",
              "    </tr>\n",
              "    <tr>\n",
              "      <th>5</th>\n",
              "      <td>0</td>\n",
              "      <td>0</td>\n",
              "      <td>3</td>\n",
              "    </tr>\n",
              "  </tbody>\n",
              "</table>\n",
              "</div>"
            ],
            "text/plain": [
              "   SibSp  Parch  FamilySize\n",
              "0      1      0           2\n",
              "1      1      0           1\n",
              "2      0      0           1\n",
              "4      0      0           2\n",
              "5      0      0           3"
            ]
          },
          "execution_count": 14,
          "metadata": {},
          "output_type": "execute_result"
        }
      ],
      "source": [
        "# Trying to understand the different types of families\n",
        "df[['SibSp', 'Parch', 'FamilySize']].drop_duplicates().head()"
      ]
    },
    {
      "cell_type": "code",
      "execution_count": 15,
      "metadata": {
        "colab": {
          "base_uri": "https://localhost:8080/",
          "height": 238
        },
        "id": "SwsP0z7UnOzS",
        "outputId": "316fb9c6-fbee-40f9-a015-aae564d888ce"
      },
      "outputs": [
        {
          "data": {
            "text/html": [
              "<div>\n",
              "<style scoped>\n",
              "    .dataframe tbody tr th:only-of-type {\n",
              "        vertical-align: middle;\n",
              "    }\n",
              "\n",
              "    .dataframe tbody tr th {\n",
              "        vertical-align: top;\n",
              "    }\n",
              "\n",
              "    .dataframe thead th {\n",
              "        text-align: right;\n",
              "    }\n",
              "</style>\n",
              "<table border=\"1\" class=\"dataframe\">\n",
              "  <thead>\n",
              "    <tr style=\"text-align: right;\">\n",
              "      <th></th>\n",
              "      <th></th>\n",
              "      <th></th>\n",
              "      <th>PassengerId</th>\n",
              "    </tr>\n",
              "    <tr>\n",
              "      <th>SibSp</th>\n",
              "      <th>Parch</th>\n",
              "      <th>FamilySize</th>\n",
              "      <th></th>\n",
              "    </tr>\n",
              "  </thead>\n",
              "  <tbody>\n",
              "    <tr>\n",
              "      <th rowspan=\"5\" valign=\"top\">0</th>\n",
              "      <th rowspan=\"5\" valign=\"top\">0</th>\n",
              "      <th>1</th>\n",
              "      <td>454</td>\n",
              "    </tr>\n",
              "    <tr>\n",
              "      <th>2</th>\n",
              "      <td>41</td>\n",
              "    </tr>\n",
              "    <tr>\n",
              "      <th>3</th>\n",
              "      <td>20</td>\n",
              "    </tr>\n",
              "    <tr>\n",
              "      <th>4</th>\n",
              "      <td>18</td>\n",
              "    </tr>\n",
              "    <tr>\n",
              "      <th>6</th>\n",
              "      <td>3</td>\n",
              "    </tr>\n",
              "  </tbody>\n",
              "</table>\n",
              "</div>"
            ],
            "text/plain": [
              "                        PassengerId\n",
              "SibSp Parch FamilySize             \n",
              "0     0     1                   454\n",
              "            2                    41\n",
              "            3                    20\n",
              "            4                    18\n",
              "            6                     3"
            ]
          },
          "execution_count": 15,
          "metadata": {},
          "output_type": "execute_result"
        }
      ],
      "source": [
        "df[['SibSp', 'Parch', 'FamilySize','PassengerId']].groupby(['SibSp', 'Parch', 'FamilySize']).count().head()"
      ]
    },
    {
      "cell_type": "code",
      "execution_count": 16,
      "metadata": {
        "id": "NjOplxU8nOzT"
      },
      "outputs": [],
      "source": [
        "df['FamilyCategory'] = np.select(\n",
        "    [\n",
        "        (df['SibSp'] == 1) & (df['Parch'] == 0), \n",
        "        (df['SibSp'] == 0) & (df['Parch'] == 1),\n",
        "        (df['SibSp'] > 1 )& (df['Parch'] == 0),\n",
        "        (df['SibSp'] == 0) & (df['Parch'] > 1),\n",
        "        (df['SibSp'] == 0) & (df['Parch'] == 0) & (df['FamilySize'] != 1),\n",
        "        (df['SibSp'] == 0) & (df['Parch'] == 0) & (df['FamilySize'] == 1)\n",
        "    ], \n",
        "    [\n",
        "        'Couple', \n",
        "        'Couple',\n",
        "        'Couple and Children',\n",
        "        'Couple and Children',\n",
        "        'Relatives',\n",
        "        'Single person'\n",
        "    ], \n",
        "    default='Single person' # defaulting to 'Single Person' as most people were by themselves\n",
        ")"
      ]
    },
    {
      "cell_type": "code",
      "execution_count": 17,
      "metadata": {
        "id": "wAnpoK_MnOzU"
      },
      "outputs": [],
      "source": [
        "# Filling in the null values for Age based in each family category"
      ]
    },
    {
      "cell_type": "code",
      "execution_count": 18,
      "metadata": {
        "colab": {
          "base_uri": "https://localhost:8080/"
        },
        "id": "hyIT4OXpnOzV",
        "outputId": "7b512993-923a-41af-cc50-7c509ba1546d"
      },
      "outputs": [
        {
          "data": {
            "text/plain": [
              "FamilyCategory\n",
              "Couple                  22\n",
              "Couple and Children      6\n",
              "Relatives               22\n",
              "Single person          127\n",
              "Name: PassengerId, dtype: int64"
            ]
          },
          "execution_count": 18,
          "metadata": {},
          "output_type": "execute_result"
        }
      ],
      "source": [
        "df.loc[df['Age'].isna()].groupby('FamilyCategory').count()['PassengerId']"
      ]
    },
    {
      "cell_type": "code",
      "execution_count": 19,
      "metadata": {
        "colab": {
          "base_uri": "https://localhost:8080/"
        },
        "id": "JzTTmK6HnOzX",
        "outputId": "3e3cdd9c-1434-4c4c-b014-5990bcf3f669"
      },
      "outputs": [
        {
          "data": {
            "text/plain": [
              "FamilyCategory\n",
              "Couple                 29.0\n",
              "Couple and Children    26.0\n",
              "Relatives              29.0\n",
              "Single person          28.0\n",
              "Name: Age, dtype: float64"
            ]
          },
          "execution_count": 19,
          "metadata": {},
          "output_type": "execute_result"
        }
      ],
      "source": [
        "df.loc[~df['Age'].isna()].groupby('FamilyCategory').median()['Age']"
      ]
    },
    {
      "cell_type": "code",
      "execution_count": 20,
      "metadata": {
        "id": "9bxrWJIknOza"
      },
      "outputs": [],
      "source": [
        "df.loc[df.FamilyCategory.eq('Couple') & df.Age.isna()] = df.loc[df.FamilyCategory.eq('Couple') & df.Age.isna()].fillna(29)\n",
        "df.loc[df.FamilyCategory.eq('Couple and Children') & df.Age.isna()] = df.loc[df.FamilyCategory.eq('Couple and Children') & df.Age.isna()].fillna(26);\n",
        "df.loc[df.FamilyCategory.eq('Relatives') & df.Age.isna()] = df.loc[df.FamilyCategory.eq('Relatives') & df.Age.isna()].fillna(29);\n",
        "df.loc[df.FamilyCategory.eq('Single person') & df.Age.isna()] = df.loc[df.FamilyCategory.eq('Single person') & df.Age.isna()].fillna(28);"
      ]
    },
    {
      "cell_type": "code",
      "execution_count": 21,
      "metadata": {
        "colab": {
          "base_uri": "https://localhost:8080/",
          "height": 206
        },
        "id": "l3CwFseanOzb",
        "outputId": "222ce8c2-d607-4876-a6f9-c0be833e828a"
      },
      "outputs": [
        {
          "data": {
            "text/html": [
              "<div>\n",
              "<style scoped>\n",
              "    .dataframe tbody tr th:only-of-type {\n",
              "        vertical-align: middle;\n",
              "    }\n",
              "\n",
              "    .dataframe tbody tr th {\n",
              "        vertical-align: top;\n",
              "    }\n",
              "\n",
              "    .dataframe thead th {\n",
              "        text-align: right;\n",
              "    }\n",
              "</style>\n",
              "<table border=\"1\" class=\"dataframe\">\n",
              "  <thead>\n",
              "    <tr style=\"text-align: right;\">\n",
              "      <th></th>\n",
              "      <th>PassengerId</th>\n",
              "      <th>Survived</th>\n",
              "      <th>Pclass</th>\n",
              "      <th>Sex</th>\n",
              "      <th>Age</th>\n",
              "      <th>SibSp</th>\n",
              "      <th>Parch</th>\n",
              "      <th>Ticket</th>\n",
              "      <th>Fare</th>\n",
              "      <th>Cabin</th>\n",
              "      <th>Embarked</th>\n",
              "      <th>Entitlement</th>\n",
              "      <th>FamilySize</th>\n",
              "      <th>FamilyCategory</th>\n",
              "    </tr>\n",
              "  </thead>\n",
              "  <tbody>\n",
              "    <tr>\n",
              "      <th>0</th>\n",
              "      <td>1</td>\n",
              "      <td>0</td>\n",
              "      <td>3</td>\n",
              "      <td>male</td>\n",
              "      <td>22.0</td>\n",
              "      <td>1</td>\n",
              "      <td>0</td>\n",
              "      <td>A/5 21171</td>\n",
              "      <td>7.2500</td>\n",
              "      <td>NaN</td>\n",
              "      <td>S</td>\n",
              "      <td>Mr.</td>\n",
              "      <td>2</td>\n",
              "      <td>Couple</td>\n",
              "    </tr>\n",
              "    <tr>\n",
              "      <th>1</th>\n",
              "      <td>2</td>\n",
              "      <td>1</td>\n",
              "      <td>1</td>\n",
              "      <td>female</td>\n",
              "      <td>38.0</td>\n",
              "      <td>1</td>\n",
              "      <td>0</td>\n",
              "      <td>PC 17599</td>\n",
              "      <td>71.2833</td>\n",
              "      <td>C85</td>\n",
              "      <td>C</td>\n",
              "      <td>Mrs.</td>\n",
              "      <td>1</td>\n",
              "      <td>Couple</td>\n",
              "    </tr>\n",
              "    <tr>\n",
              "      <th>2</th>\n",
              "      <td>3</td>\n",
              "      <td>1</td>\n",
              "      <td>3</td>\n",
              "      <td>female</td>\n",
              "      <td>26.0</td>\n",
              "      <td>0</td>\n",
              "      <td>0</td>\n",
              "      <td>STON/O2. 3101282</td>\n",
              "      <td>7.9250</td>\n",
              "      <td>NaN</td>\n",
              "      <td>S</td>\n",
              "      <td>Miss.</td>\n",
              "      <td>1</td>\n",
              "      <td>Single person</td>\n",
              "    </tr>\n",
              "    <tr>\n",
              "      <th>3</th>\n",
              "      <td>4</td>\n",
              "      <td>1</td>\n",
              "      <td>1</td>\n",
              "      <td>female</td>\n",
              "      <td>35.0</td>\n",
              "      <td>1</td>\n",
              "      <td>0</td>\n",
              "      <td>113803</td>\n",
              "      <td>53.1000</td>\n",
              "      <td>C123</td>\n",
              "      <td>S</td>\n",
              "      <td>Mrs.</td>\n",
              "      <td>2</td>\n",
              "      <td>Couple</td>\n",
              "    </tr>\n",
              "    <tr>\n",
              "      <th>4</th>\n",
              "      <td>5</td>\n",
              "      <td>0</td>\n",
              "      <td>3</td>\n",
              "      <td>male</td>\n",
              "      <td>35.0</td>\n",
              "      <td>0</td>\n",
              "      <td>0</td>\n",
              "      <td>373450</td>\n",
              "      <td>8.0500</td>\n",
              "      <td>NaN</td>\n",
              "      <td>S</td>\n",
              "      <td>Mr.</td>\n",
              "      <td>2</td>\n",
              "      <td>Relatives</td>\n",
              "    </tr>\n",
              "  </tbody>\n",
              "</table>\n",
              "</div>"
            ],
            "text/plain": [
              "   PassengerId  Survived  Pclass     Sex   Age  SibSp  Parch  \\\n",
              "0            1         0       3    male  22.0      1      0   \n",
              "1            2         1       1  female  38.0      1      0   \n",
              "2            3         1       3  female  26.0      0      0   \n",
              "3            4         1       1  female  35.0      1      0   \n",
              "4            5         0       3    male  35.0      0      0   \n",
              "\n",
              "             Ticket     Fare Cabin Embarked Entitlement  FamilySize  \\\n",
              "0         A/5 21171   7.2500   NaN        S         Mr.           2   \n",
              "1          PC 17599  71.2833   C85        C        Mrs.           1   \n",
              "2  STON/O2. 3101282   7.9250   NaN        S       Miss.           1   \n",
              "3            113803  53.1000  C123        S        Mrs.           2   \n",
              "4            373450   8.0500   NaN        S         Mr.           2   \n",
              "\n",
              "  FamilyCategory  \n",
              "0         Couple  \n",
              "1         Couple  \n",
              "2  Single person  \n",
              "3         Couple  \n",
              "4      Relatives  "
            ]
          },
          "execution_count": 21,
          "metadata": {},
          "output_type": "execute_result"
        }
      ],
      "source": [
        "df.head()"
      ]
    },
    {
      "cell_type": "code",
      "execution_count": 22,
      "metadata": {
        "colab": {
          "base_uri": "https://localhost:8080/",
          "height": 424
        },
        "id": "fT07Id5qnOzc",
        "outputId": "2e571625-6526-4c15-8b5e-f6bd01159ca5"
      },
      "outputs": [
        {
          "data": {
            "text/html": [
              "<div>\n",
              "<style scoped>\n",
              "    .dataframe tbody tr th:only-of-type {\n",
              "        vertical-align: middle;\n",
              "    }\n",
              "\n",
              "    .dataframe tbody tr th {\n",
              "        vertical-align: top;\n",
              "    }\n",
              "\n",
              "    .dataframe thead th {\n",
              "        text-align: right;\n",
              "    }\n",
              "</style>\n",
              "<table border=\"1\" class=\"dataframe\">\n",
              "  <thead>\n",
              "    <tr style=\"text-align: right;\">\n",
              "      <th></th>\n",
              "      <th>Fare</th>\n",
              "      <th>Cabin</th>\n",
              "    </tr>\n",
              "  </thead>\n",
              "  <tbody>\n",
              "    <tr>\n",
              "      <th>1</th>\n",
              "      <td>71.2833</td>\n",
              "      <td>C85</td>\n",
              "    </tr>\n",
              "    <tr>\n",
              "      <th>3</th>\n",
              "      <td>53.1000</td>\n",
              "      <td>C123</td>\n",
              "    </tr>\n",
              "    <tr>\n",
              "      <th>5</th>\n",
              "      <td>8.4583</td>\n",
              "      <td>29</td>\n",
              "    </tr>\n",
              "    <tr>\n",
              "      <th>6</th>\n",
              "      <td>51.8625</td>\n",
              "      <td>E46</td>\n",
              "    </tr>\n",
              "    <tr>\n",
              "      <th>10</th>\n",
              "      <td>16.7000</td>\n",
              "      <td>G6</td>\n",
              "    </tr>\n",
              "    <tr>\n",
              "      <th>...</th>\n",
              "      <td>...</td>\n",
              "      <td>...</td>\n",
              "    </tr>\n",
              "    <tr>\n",
              "      <th>878</th>\n",
              "      <td>7.8958</td>\n",
              "      <td>28</td>\n",
              "    </tr>\n",
              "    <tr>\n",
              "      <th>879</th>\n",
              "      <td>83.1583</td>\n",
              "      <td>C50</td>\n",
              "    </tr>\n",
              "    <tr>\n",
              "      <th>887</th>\n",
              "      <td>30.0000</td>\n",
              "      <td>B42</td>\n",
              "    </tr>\n",
              "    <tr>\n",
              "      <th>888</th>\n",
              "      <td>23.4500</td>\n",
              "      <td>28</td>\n",
              "    </tr>\n",
              "    <tr>\n",
              "      <th>889</th>\n",
              "      <td>30.0000</td>\n",
              "      <td>C148</td>\n",
              "    </tr>\n",
              "  </tbody>\n",
              "</table>\n",
              "<p>362 rows × 2 columns</p>\n",
              "</div>"
            ],
            "text/plain": [
              "        Fare Cabin\n",
              "1    71.2833   C85\n",
              "3    53.1000  C123\n",
              "5     8.4583    29\n",
              "6    51.8625   E46\n",
              "10   16.7000    G6\n",
              "..       ...   ...\n",
              "878   7.8958    28\n",
              "879  83.1583   C50\n",
              "887  30.0000   B42\n",
              "888  23.4500    28\n",
              "889  30.0000  C148\n",
              "\n",
              "[362 rows x 2 columns]"
            ]
          },
          "execution_count": 22,
          "metadata": {},
          "output_type": "execute_result"
        }
      ],
      "source": [
        "df[['Fare', 'Cabin']].loc[~df['Cabin'].isna()]"
      ]
    },
    {
      "cell_type": "code",
      "execution_count": 23,
      "metadata": {
        "id": "IwAJYnbYnOzf"
      },
      "outputs": [],
      "source": [
        "# The 'Cabin' column is very badly populated. My decision will be to drop it."
      ]
    },
    {
      "cell_type": "code",
      "execution_count": 24,
      "metadata": {
        "id": "FOFELIVOnOzg"
      },
      "outputs": [],
      "source": [
        "df.drop('Cabin', axis=1, inplace=True)"
      ]
    },
    {
      "cell_type": "code",
      "execution_count": 25,
      "metadata": {
        "colab": {
          "base_uri": "https://localhost:8080/",
          "height": 206
        },
        "id": "clQl4ulSnOzh",
        "outputId": "c4b28bd5-35c9-47d8-8cf3-62f58f5667a9"
      },
      "outputs": [
        {
          "data": {
            "text/html": [
              "<div>\n",
              "<style scoped>\n",
              "    .dataframe tbody tr th:only-of-type {\n",
              "        vertical-align: middle;\n",
              "    }\n",
              "\n",
              "    .dataframe tbody tr th {\n",
              "        vertical-align: top;\n",
              "    }\n",
              "\n",
              "    .dataframe thead th {\n",
              "        text-align: right;\n",
              "    }\n",
              "</style>\n",
              "<table border=\"1\" class=\"dataframe\">\n",
              "  <thead>\n",
              "    <tr style=\"text-align: right;\">\n",
              "      <th></th>\n",
              "      <th>PassengerId</th>\n",
              "      <th>Survived</th>\n",
              "      <th>Pclass</th>\n",
              "      <th>Sex</th>\n",
              "      <th>Age</th>\n",
              "      <th>SibSp</th>\n",
              "      <th>Parch</th>\n",
              "      <th>Ticket</th>\n",
              "      <th>Fare</th>\n",
              "      <th>Embarked</th>\n",
              "      <th>Entitlement</th>\n",
              "      <th>FamilySize</th>\n",
              "      <th>FamilyCategory</th>\n",
              "    </tr>\n",
              "  </thead>\n",
              "  <tbody>\n",
              "    <tr>\n",
              "      <th>0</th>\n",
              "      <td>1</td>\n",
              "      <td>0</td>\n",
              "      <td>3</td>\n",
              "      <td>male</td>\n",
              "      <td>22.0</td>\n",
              "      <td>1</td>\n",
              "      <td>0</td>\n",
              "      <td>A/5 21171</td>\n",
              "      <td>7.2500</td>\n",
              "      <td>S</td>\n",
              "      <td>Mr.</td>\n",
              "      <td>2</td>\n",
              "      <td>Couple</td>\n",
              "    </tr>\n",
              "    <tr>\n",
              "      <th>1</th>\n",
              "      <td>2</td>\n",
              "      <td>1</td>\n",
              "      <td>1</td>\n",
              "      <td>female</td>\n",
              "      <td>38.0</td>\n",
              "      <td>1</td>\n",
              "      <td>0</td>\n",
              "      <td>PC 17599</td>\n",
              "      <td>71.2833</td>\n",
              "      <td>C</td>\n",
              "      <td>Mrs.</td>\n",
              "      <td>1</td>\n",
              "      <td>Couple</td>\n",
              "    </tr>\n",
              "    <tr>\n",
              "      <th>2</th>\n",
              "      <td>3</td>\n",
              "      <td>1</td>\n",
              "      <td>3</td>\n",
              "      <td>female</td>\n",
              "      <td>26.0</td>\n",
              "      <td>0</td>\n",
              "      <td>0</td>\n",
              "      <td>STON/O2. 3101282</td>\n",
              "      <td>7.9250</td>\n",
              "      <td>S</td>\n",
              "      <td>Miss.</td>\n",
              "      <td>1</td>\n",
              "      <td>Single person</td>\n",
              "    </tr>\n",
              "    <tr>\n",
              "      <th>3</th>\n",
              "      <td>4</td>\n",
              "      <td>1</td>\n",
              "      <td>1</td>\n",
              "      <td>female</td>\n",
              "      <td>35.0</td>\n",
              "      <td>1</td>\n",
              "      <td>0</td>\n",
              "      <td>113803</td>\n",
              "      <td>53.1000</td>\n",
              "      <td>S</td>\n",
              "      <td>Mrs.</td>\n",
              "      <td>2</td>\n",
              "      <td>Couple</td>\n",
              "    </tr>\n",
              "    <tr>\n",
              "      <th>4</th>\n",
              "      <td>5</td>\n",
              "      <td>0</td>\n",
              "      <td>3</td>\n",
              "      <td>male</td>\n",
              "      <td>35.0</td>\n",
              "      <td>0</td>\n",
              "      <td>0</td>\n",
              "      <td>373450</td>\n",
              "      <td>8.0500</td>\n",
              "      <td>S</td>\n",
              "      <td>Mr.</td>\n",
              "      <td>2</td>\n",
              "      <td>Relatives</td>\n",
              "    </tr>\n",
              "  </tbody>\n",
              "</table>\n",
              "</div>"
            ],
            "text/plain": [
              "   PassengerId  Survived  Pclass     Sex   Age  SibSp  Parch  \\\n",
              "0            1         0       3    male  22.0      1      0   \n",
              "1            2         1       1  female  38.0      1      0   \n",
              "2            3         1       3  female  26.0      0      0   \n",
              "3            4         1       1  female  35.0      1      0   \n",
              "4            5         0       3    male  35.0      0      0   \n",
              "\n",
              "             Ticket     Fare Embarked Entitlement  FamilySize FamilyCategory  \n",
              "0         A/5 21171   7.2500        S         Mr.           2         Couple  \n",
              "1          PC 17599  71.2833        C        Mrs.           1         Couple  \n",
              "2  STON/O2. 3101282   7.9250        S       Miss.           1  Single person  \n",
              "3            113803  53.1000        S        Mrs.           2         Couple  \n",
              "4            373450   8.0500        S         Mr.           2      Relatives  "
            ]
          },
          "execution_count": 25,
          "metadata": {},
          "output_type": "execute_result"
        }
      ],
      "source": [
        "df.head()"
      ]
    },
    {
      "cell_type": "code",
      "execution_count": 26,
      "metadata": {
        "id": "PHRxGgrMnOzh"
      },
      "outputs": [],
      "source": [
        "# The 'Ticket' column has a very high cardinality, making it difficult to use it for classification. My decision will also be to drop it"
      ]
    },
    {
      "cell_type": "code",
      "execution_count": 27,
      "metadata": {
        "colab": {
          "base_uri": "https://localhost:8080/",
          "height": 206
        },
        "id": "O69G0gh0nOzj",
        "outputId": "49f38292-cf36-4cf9-c8ac-f382a5ca63e9"
      },
      "outputs": [
        {
          "data": {
            "text/html": [
              "<div>\n",
              "<style scoped>\n",
              "    .dataframe tbody tr th:only-of-type {\n",
              "        vertical-align: middle;\n",
              "    }\n",
              "\n",
              "    .dataframe tbody tr th {\n",
              "        vertical-align: top;\n",
              "    }\n",
              "\n",
              "    .dataframe thead th {\n",
              "        text-align: right;\n",
              "    }\n",
              "</style>\n",
              "<table border=\"1\" class=\"dataframe\">\n",
              "  <thead>\n",
              "    <tr style=\"text-align: right;\">\n",
              "      <th></th>\n",
              "      <th>PassengerId</th>\n",
              "      <th>Survived</th>\n",
              "      <th>Pclass</th>\n",
              "      <th>Sex</th>\n",
              "      <th>Age</th>\n",
              "      <th>SibSp</th>\n",
              "      <th>Parch</th>\n",
              "      <th>Fare</th>\n",
              "      <th>Embarked</th>\n",
              "      <th>Entitlement</th>\n",
              "      <th>FamilySize</th>\n",
              "      <th>FamilyCategory</th>\n",
              "    </tr>\n",
              "  </thead>\n",
              "  <tbody>\n",
              "    <tr>\n",
              "      <th>0</th>\n",
              "      <td>1</td>\n",
              "      <td>0</td>\n",
              "      <td>3</td>\n",
              "      <td>male</td>\n",
              "      <td>22.0</td>\n",
              "      <td>1</td>\n",
              "      <td>0</td>\n",
              "      <td>7.2500</td>\n",
              "      <td>S</td>\n",
              "      <td>Mr.</td>\n",
              "      <td>2</td>\n",
              "      <td>Couple</td>\n",
              "    </tr>\n",
              "    <tr>\n",
              "      <th>1</th>\n",
              "      <td>2</td>\n",
              "      <td>1</td>\n",
              "      <td>1</td>\n",
              "      <td>female</td>\n",
              "      <td>38.0</td>\n",
              "      <td>1</td>\n",
              "      <td>0</td>\n",
              "      <td>71.2833</td>\n",
              "      <td>C</td>\n",
              "      <td>Mrs.</td>\n",
              "      <td>1</td>\n",
              "      <td>Couple</td>\n",
              "    </tr>\n",
              "    <tr>\n",
              "      <th>2</th>\n",
              "      <td>3</td>\n",
              "      <td>1</td>\n",
              "      <td>3</td>\n",
              "      <td>female</td>\n",
              "      <td>26.0</td>\n",
              "      <td>0</td>\n",
              "      <td>0</td>\n",
              "      <td>7.9250</td>\n",
              "      <td>S</td>\n",
              "      <td>Miss.</td>\n",
              "      <td>1</td>\n",
              "      <td>Single person</td>\n",
              "    </tr>\n",
              "    <tr>\n",
              "      <th>3</th>\n",
              "      <td>4</td>\n",
              "      <td>1</td>\n",
              "      <td>1</td>\n",
              "      <td>female</td>\n",
              "      <td>35.0</td>\n",
              "      <td>1</td>\n",
              "      <td>0</td>\n",
              "      <td>53.1000</td>\n",
              "      <td>S</td>\n",
              "      <td>Mrs.</td>\n",
              "      <td>2</td>\n",
              "      <td>Couple</td>\n",
              "    </tr>\n",
              "    <tr>\n",
              "      <th>4</th>\n",
              "      <td>5</td>\n",
              "      <td>0</td>\n",
              "      <td>3</td>\n",
              "      <td>male</td>\n",
              "      <td>35.0</td>\n",
              "      <td>0</td>\n",
              "      <td>0</td>\n",
              "      <td>8.0500</td>\n",
              "      <td>S</td>\n",
              "      <td>Mr.</td>\n",
              "      <td>2</td>\n",
              "      <td>Relatives</td>\n",
              "    </tr>\n",
              "  </tbody>\n",
              "</table>\n",
              "</div>"
            ],
            "text/plain": [
              "   PassengerId  Survived  Pclass     Sex   Age  SibSp  Parch     Fare  \\\n",
              "0            1         0       3    male  22.0      1      0   7.2500   \n",
              "1            2         1       1  female  38.0      1      0  71.2833   \n",
              "2            3         1       3  female  26.0      0      0   7.9250   \n",
              "3            4         1       1  female  35.0      1      0  53.1000   \n",
              "4            5         0       3    male  35.0      0      0   8.0500   \n",
              "\n",
              "  Embarked Entitlement  FamilySize FamilyCategory  \n",
              "0        S         Mr.           2         Couple  \n",
              "1        C        Mrs.           1         Couple  \n",
              "2        S       Miss.           1  Single person  \n",
              "3        S        Mrs.           2         Couple  \n",
              "4        S         Mr.           2      Relatives  "
            ]
          },
          "execution_count": 27,
          "metadata": {},
          "output_type": "execute_result"
        }
      ],
      "source": [
        "df.drop('Ticket', axis=1, inplace=True)\n",
        "df.head()"
      ]
    },
    {
      "cell_type": "code",
      "execution_count": 28,
      "metadata": {
        "id": "rm-ZNdfAnOzl"
      },
      "outputs": [],
      "source": [
        "# Getting the data ready for training: Applying one-hot encoding to the categorical fields"
      ]
    },
    {
      "cell_type": "code",
      "execution_count": 29,
      "metadata": {
        "id": "C_Ur1efUnOzm"
      },
      "outputs": [],
      "source": [
        "df = pd.get_dummies(df)"
      ]
    },
    {
      "cell_type": "code",
      "execution_count": 30,
      "metadata": {},
      "outputs": [],
      "source": [
        "# Removing an unnecessary entitlement\n",
        "df.drop('Entitlement_the', axis=1, inplace=True)\n",
        "# Adding a different entitlement which can be found on the test dataset\n",
        "df['Entitlement_Dona.'] = 0"
      ]
    },
    {
      "cell_type": "code",
      "execution_count": 31,
      "metadata": {
        "id": "uRWIKwl5nOzk"
      },
      "outputs": [],
      "source": [
        "# Generating a new profiling report for analysis"
      ]
    },
    {
      "cell_type": "code",
      "execution_count": 32,
      "metadata": {
        "id": "fD3VZ_i4nOzk"
      },
      "outputs": [],
      "source": [
        "#profile = ProfileReport(df, title=\"Pandas Profiling Report\", explorative=True)\n",
        "#profile.to_file('CuratedDataProfile.html')"
      ]
    },
    {
      "cell_type": "code",
      "execution_count": 33,
      "metadata": {
        "id": "XCErfDWfnOzj"
      },
      "outputs": [],
      "source": [
        "# The data seems to be in a much better shape now for training a model!"
      ]
    },
    {
      "cell_type": "code",
      "execution_count": 34,
      "metadata": {
        "id": "BPqANL5knOzm"
      },
      "outputs": [],
      "source": [
        "X = df.drop('Survived', axis=1).copy()\n",
        "y = df['Survived']\n",
        "X_train, X_test, y_train, y_test = train_test_split(\n",
        "    X, y, test_size=0.2, random_state=1, stratify=y)"
      ]
    },
    {
      "cell_type": "code",
      "execution_count": 35,
      "metadata": {
        "id": "FL8VKXh2nOzn"
      },
      "outputs": [],
      "source": [
        "# Standardizing, casting and scaling the data"
      ]
    },
    {
      "cell_type": "code",
      "execution_count": 36,
      "metadata": {
        "id": "AXOPTX_GnOzn"
      },
      "outputs": [],
      "source": [
        "sc = StandardScaler()\n",
        "sc.fit(X_train)\n",
        "X_train_std = sc.transform(X_train)\n",
        "X_test_std = sc.transform(X_test)\n",
        "input_dim = len(X_train.columns)\n",
        "\n",
        "num_classes = 2\n",
        "\n",
        "# convert class vectors to binary class matrices\n",
        "y_train_arr = keras.utils.np_utils.to_categorical(y_train, num_classes)\n",
        "y_test_arr = keras.utils.np_utils.to_categorical(y_test, num_classes)"
      ]
    },
    {
      "cell_type": "markdown",
      "metadata": {
        "id": "Q4GXbbiCnOzy"
      },
      "source": [
        "# Step 3: Model Training and evaluation"
      ]
    },
    {
      "cell_type": "code",
      "execution_count": 37,
      "metadata": {
        "id": "S3enq4gZnOz0"
      },
      "outputs": [],
      "source": [
        "# Functions to calculate accuracy metrics\n",
        "from keras import backend as K\n",
        "\n",
        "def recall_m(y_true, y_pred):\n",
        "    true_positives = K.sum(K.round(K.clip(y_true * y_pred, 0, 1)))\n",
        "    possible_positives = K.sum(K.round(K.clip(y_true, 0, 1)))\n",
        "    recall = true_positives / (possible_positives + K.epsilon())\n",
        "    return recall\n",
        "def precision_m(y_true, y_pred):\n",
        "    true_positives = K.sum(K.round(K.clip(y_true * y_pred, 0, 1)))\n",
        "    predicted_positives = K.sum(K.round(K.clip(y_pred, 0, 1)))\n",
        "    precision = true_positives / (predicted_positives + K.epsilon())\n",
        "    return precision\n",
        "def f1_m(y_true, y_pred):\n",
        "    precision = precision_m(y_true, y_pred)\n",
        "    recall = recall_m(y_true, y_pred)\n",
        "    return 2*((precision*recall)/(precision+recall+K.epsilon()))"
      ]
    },
    {
      "cell_type": "code",
      "execution_count": 38,
      "metadata": {
        "id": "7YnciTHonOz0"
      },
      "outputs": [],
      "source": [
        "# Trains a deep NN on the dataset\n",
        "def get_model(qt_relu_layers, optimizer, epochs):\n",
        "    model = Sequential()\n",
        "    # Rectified Linear Unit (ReLU) as the 1st Activation Function\n",
        "    # What it does is essentially outputting the input directly if it is positive, otherwise, it will output ero\n",
        "    model.add(Dense(qt_relu_layers, activation='relu', input_dim=input_dim))\n",
        "    # Intermediate layer\n",
        "    model.add(Dense(qt_relu_layers/2, activation='relu'))\n",
        "    # Softmax function as the last Activation Function \n",
        "    # What it does it essentially normalizing the output of a network to a probability distribution over the        redicted output classes\n",
        "    model.add(Dense(num_classes, activation='softmax'))\n",
        "    model.summary()\n",
        "    model.compile(loss='categorical_crossentropy',\n",
        "                  optimizer=optimizer,\n",
        "                  metrics=['accuracy', f1_m])\n",
        "    return model"
      ]
    },
    {
      "cell_type": "code",
      "execution_count": 39,
      "metadata": {
        "id": "7T_sz_ZO5B6j"
      },
      "outputs": [],
      "source": [
        "batch_size = 64"
      ]
    },
    {
      "cell_type": "code",
      "execution_count": 40,
      "metadata": {
        "colab": {
          "base_uri": "https://localhost:8080/"
        },
        "id": "DzacXgYonOz1",
        "outputId": "e509cb24-5af1-49e9-bce0-66178207e9c6"
      },
      "outputs": [
        {
          "name": "stdout",
          "output_type": "stream",
          "text": [
            "Model: \"sequential\"\n",
            "_________________________________________________________________\n",
            "Layer (type)                 Output Shape              Param #   \n",
            "=================================================================\n",
            "dense (Dense)                (None, 128)               4352      \n",
            "_________________________________________________________________\n",
            "dense_1 (Dense)              (None, 64)                8256      \n",
            "_________________________________________________________________\n",
            "dense_2 (Dense)              (None, 2)                 130       \n",
            "=================================================================\n",
            "Total params: 12,738\n",
            "Trainable params: 12,738\n",
            "Non-trainable params: 0\n",
            "_________________________________________________________________\n",
            "Epoch 1/20\n",
            "6/6 [==============================] - 3s 232ms/step - loss: 0.6104 - accuracy: 0.6770 - f1_m: 0.6843 - val_loss: 0.5087 - val_accuracy: 0.8101 - val_f1_m: 0.8318\n",
            "Epoch 2/20\n",
            "6/6 [==============================] - 0s 16ms/step - loss: 0.4744 - accuracy: 0.8034 - f1_m: 0.8056 - val_loss: 0.4545 - val_accuracy: 0.8324 - val_f1_m: 0.8415\n",
            "Epoch 3/20\n",
            "6/6 [==============================] - 0s 11ms/step - loss: 0.4343 - accuracy: 0.8216 - f1_m: 0.8225 - val_loss: 0.4314 - val_accuracy: 0.8436 - val_f1_m: 0.8611\n",
            "Epoch 4/20\n",
            "6/6 [==============================] - 0s 11ms/step - loss: 0.4148 - accuracy: 0.8244 - f1_m: 0.8271 - val_loss: 0.4223 - val_accuracy: 0.8436 - val_f1_m: 0.8611\n",
            "Epoch 5/20\n",
            "6/6 [==============================] - 0s 18ms/step - loss: 0.3988 - accuracy: 0.8244 - f1_m: 0.8200 - val_loss: 0.4204 - val_accuracy: 0.8268 - val_f1_m: 0.8494\n",
            "Epoch 6/20\n",
            "6/6 [==============================] - 0s 11ms/step - loss: 0.3894 - accuracy: 0.8315 - f1_m: 0.8255 - val_loss: 0.4190 - val_accuracy: 0.8324 - val_f1_m: 0.8592\n",
            "Epoch 7/20\n",
            "6/6 [==============================] - 0s 13ms/step - loss: 0.3782 - accuracy: 0.8385 - f1_m: 0.8361 - val_loss: 0.4175 - val_accuracy: 0.8324 - val_f1_m: 0.8592\n",
            "Epoch 8/20\n",
            "6/6 [==============================] - 0s 10ms/step - loss: 0.3746 - accuracy: 0.8399 - f1_m: 0.8394 - val_loss: 0.4175 - val_accuracy: 0.8324 - val_f1_m: 0.8592\n",
            "Epoch 9/20\n",
            "6/6 [==============================] - 0s 33ms/step - loss: 0.3689 - accuracy: 0.8357 - f1_m: 0.8355 - val_loss: 0.4157 - val_accuracy: 0.8324 - val_f1_m: 0.8592\n",
            "Epoch 10/20\n",
            "6/6 [==============================] - 0s 14ms/step - loss: 0.3602 - accuracy: 0.8441 - f1_m: 0.8433 - val_loss: 0.4162 - val_accuracy: 0.8268 - val_f1_m: 0.8494\n",
            "Epoch 11/20\n",
            "6/6 [==============================] - 0s 16ms/step - loss: 0.3584 - accuracy: 0.8385 - f1_m: 0.8300 - val_loss: 0.4184 - val_accuracy: 0.8436 - val_f1_m: 0.8670\n",
            "Epoch 12/20\n",
            "6/6 [==============================] - 0s 28ms/step - loss: 0.3554 - accuracy: 0.8455 - f1_m: 0.8426 - val_loss: 0.4231 - val_accuracy: 0.8380 - val_f1_m: 0.8572\n",
            "Epoch 13/20\n",
            "6/6 [==============================] - 0s 57ms/step - loss: 0.3507 - accuracy: 0.8553 - f1_m: 0.8598 - val_loss: 0.4229 - val_accuracy: 0.8324 - val_f1_m: 0.8533\n",
            "Epoch 14/20\n",
            "6/6 [==============================] - 0s 38ms/step - loss: 0.3477 - accuracy: 0.8497 - f1_m: 0.8505 - val_loss: 0.4242 - val_accuracy: 0.8268 - val_f1_m: 0.8494\n",
            "Epoch 15/20\n",
            "6/6 [==============================] - 0s 28ms/step - loss: 0.3453 - accuracy: 0.8567 - f1_m: 0.8581 - val_loss: 0.4222 - val_accuracy: 0.8268 - val_f1_m: 0.8435\n",
            "Epoch 16/20\n",
            "6/6 [==============================] - 0s 24ms/step - loss: 0.3404 - accuracy: 0.8525 - f1_m: 0.8572 - val_loss: 0.4304 - val_accuracy: 0.8380 - val_f1_m: 0.8513\n",
            "Epoch 17/20\n",
            "6/6 [==============================] - 0s 16ms/step - loss: 0.3357 - accuracy: 0.8553 - f1_m: 0.8547 - val_loss: 0.4254 - val_accuracy: 0.8212 - val_f1_m: 0.8396\n",
            "Epoch 18/20\n",
            "6/6 [==============================] - 0s 20ms/step - loss: 0.3355 - accuracy: 0.8539 - f1_m: 0.8514 - val_loss: 0.4247 - val_accuracy: 0.8156 - val_f1_m: 0.8357\n",
            "Epoch 19/20\n",
            "6/6 [==============================] - 0s 14ms/step - loss: 0.3322 - accuracy: 0.8596 - f1_m: 0.8637 - val_loss: 0.4309 - val_accuracy: 0.8380 - val_f1_m: 0.8513\n",
            "Epoch 20/20\n",
            "6/6 [==============================] - 0s 14ms/step - loss: 0.3333 - accuracy: 0.8652 - f1_m: 0.8608 - val_loss: 0.4251 - val_accuracy: 0.8212 - val_f1_m: 0.8396\n",
            "-----------------------------------------------------\n",
            "Test loss: 0.42510858178138733\n",
            "Test accuracy: 0.8212290406227112\n",
            "Test F1 score: 0.8226425051689148\n"
          ]
        }
      ],
      "source": [
        "batch_size = 128\n",
        "epochs = 20\n",
        "optimizer = 'RMSprop'\n",
        "model = get_model(batch_size, optimizer, epochs)\n",
        "history = model.fit(X_train_std, y_train_arr,\n",
        "                    batch_size=batch_size,\n",
        "                    epochs=epochs,\n",
        "                    verbose=True,\n",
        "                    validation_data=(X_test_std, y_test_arr))\n",
        "score = model.evaluate(X_test_std, y_test_arr, verbose=0)\n",
        "print('-----------------------------------------------------')\n",
        "print('Test loss:', score[0])\n",
        "print('Test accuracy:', score[1])\n",
        "print('Test F1 score:', score[2])"
      ]
    },
    {
      "cell_type": "code",
      "execution_count": 41,
      "metadata": {
        "colab": {
          "base_uri": "https://localhost:8080/",
          "height": 295
        },
        "id": "OFkpAxAvnOz2",
        "outputId": "147ffee1-e87d-450f-bba2-0342b98b2bab"
      },
      "outputs": [
        {
          "data": {
            "image/png": "[encoded data removed]",
            "text/plain": [
              "<Figure size 432x288 with 1 Axes>"
            ]
          },
          "metadata": {
            "needs_background": "light"
          },
          "output_type": "display_data"
        }
      ],
      "source": [
        "%matplotlib inline\n",
        "plt.plot(history.history['accuracy'])\n",
        "plt.plot(history.history['val_accuracy']) \n",
        "plt.title('Model Accuracy');\n",
        "plt.ylabel('Accuracy');\n",
        "plt.xlabel('Epoch'); \n",
        "plt.legend(['Train', 'Test'], loc='upper left');"
      ]
    },
    {
      "cell_type": "code",
      "execution_count": 42,
      "metadata": {
        "id": "ANQ2D0eRnOz3"
      },
      "outputs": [
        {
          "data": {
            "text/plain": [
              "\"\\nparam_grid = {'qt_relu_layers': [2, 4, 16, 32, 64, 128],\\n            'optimizer': ['SGD', 'RMSprop', 'Adagrad', 'Adadelta', 'Adam', 'Adamax', 'Nadam'],\\n            'epochs': [2, 5, 10, 20, 30, 40, 50, 100]\\n}\\n\\nmodel = KerasClassifier(build_fn=get_model, verbose=False, batch_size=batch_size)\\n\\nuse_all_processors = -1\\ngs = GridSearchCV(estimator=model, param_grid=param_grid, n_jobs=use_all_processors)\\n                                                  \\ngs.fit(X_train, y_train_arr)\\n\\nprint(gs.best_params_)\\nprint(gs.best_score_)\\n\""
            ]
          },
          "execution_count": 42,
          "metadata": {},
          "output_type": "execute_result"
        }
      ],
      "source": [
        "# Using GridSearch to determine the best parameters and best train score (commented out to save computing resources when executing everything)\n",
        "'''\n",
        "param_grid = {'qt_relu_layers': [2, 4, 16, 32, 64, 128],\n",
        "            'optimizer': ['SGD', 'RMSprop', 'Adagrad', 'Adadelta', 'Adam', 'Adamax', 'Nadam'],\n",
        "            'epochs': [2, 5, 10, 20, 30, 40, 50, 100]\n",
        "}\n",
        "\n",
        "model = KerasClassifier(build_fn=get_model, verbose=False, batch_size=batch_size)\n",
        "\n",
        "use_all_processors = -1\n",
        "gs = GridSearchCV(estimator=model, param_grid=param_grid, n_jobs=use_all_processors)\n",
        "                                                  \n",
        "gs.fit(X_train, y_train_arr)\n",
        "\n",
        "print(gs.best_params_)\n",
        "print(gs.best_score_)\n",
        "'''"
      ]
    },
    {
      "cell_type": "markdown",
      "metadata": {
        "id": "dV1_yVLk50XA"
      },
      "source": [
        "# Step 4: Training and evaluating the model that uses the best parameters found on the Grid Search"
      ]
    },
    {
      "cell_type": "code",
      "execution_count": 43,
      "metadata": {
        "colab": {
          "base_uri": "https://localhost:8080/"
        },
        "id": "Xq5fzUNy4O4b",
        "outputId": "df9df857-e2ab-4877-f194-a046be95568b"
      },
      "outputs": [
        {
          "name": "stdout",
          "output_type": "stream",
          "text": [
            "Model: \"sequential_1\"\n",
            "_________________________________________________________________\n",
            "Layer (type)                 Output Shape              Param #   \n",
            "=================================================================\n",
            "dense_3 (Dense)              (None, 128)               4352      \n",
            "_________________________________________________________________\n",
            "dense_4 (Dense)              (None, 64)                8256      \n",
            "_________________________________________________________________\n",
            "dense_5 (Dense)              (None, 2)                 130       \n",
            "=================================================================\n",
            "Total params: 12,738\n",
            "Trainable params: 12,738\n",
            "Non-trainable params: 0\n",
            "_________________________________________________________________\n",
            "-----------------------------------------------------\n",
            "Test set loss: 1.2341854572296143\n",
            "Test set accuracy: 0.7877094745635986\n",
            "Test set F1 score: 0.7913925051689148\n"
          ]
        }
      ],
      "source": [
        "qt_relu_layers = 128\n",
        "epochs = 400\n",
        "optimizer = 'Adam'\n",
        "model = get_model(qt_relu_layers, optimizer, epochs)\n",
        "history = model.fit(X_train_std, y_train_arr,\n",
        "                    batch_size=batch_size,\n",
        "                    epochs=epochs,\n",
        "                    verbose=False,\n",
        "                    validation_data=(X_test_std, y_test_arr))\n",
        "score = model.evaluate(X_test_std, y_test_arr, verbose=0)\n",
        "print('-----------------------------------------------------')\n",
        "print('Test set loss:', score[0])\n",
        "print('Test set accuracy:', score[1])\n",
        "print('Test set F1 score:', score[2])"
      ]
    },
    {
      "cell_type": "code",
      "execution_count": 44,
      "metadata": {
        "colab": {
          "base_uri": "https://localhost:8080/",
          "height": 295
        },
        "id": "jFflq9I1450F",
        "outputId": "c0150199-6321-4a05-9105-a92eda6be8b0"
      },
      "outputs": [
        {
          "data": {
            "image/png": "[encoded data removed]",
            "text/plain": [
              "<Figure size 432x288 with 1 Axes>"
            ]
          },
          "metadata": {
            "needs_background": "light"
          },
          "output_type": "display_data"
        }
      ],
      "source": [
        "%matplotlib inline\n",
        "plt.plot(history.history['accuracy'])\n",
        "plt.plot(history.history['val_accuracy']) \n",
        "plt.title('Model Accuracy');\n",
        "plt.ylabel('Accuracy');\n",
        "plt.xlabel('Epoch'); \n",
        "plt.legend(['Train', 'Test'], loc='upper left');"
      ]
    },
    {
      "cell_type": "code",
      "execution_count": 45,
      "metadata": {},
      "outputs": [
        {
          "name": "stdout",
          "output_type": "stream",
          "text": [
            "Confusion Matrix for the Test Data:\n",
            "[[93 17]\n",
            " [21 48]]\n"
          ]
        }
      ],
      "source": [
        "print(\"Confusion Matrix for the Test Data:\")\n",
        "y_test_arg = np.argmax(y_test_arr, axis=1)\n",
        "y_pred = np.argmax(model.predict(X_test_std), axis=1)\n",
        "print(confusion_matrix(y_test_arg, y_pred))"
      ]
    },
    {
      "cell_type": "markdown",
      "metadata": {},
      "source": [
        "# Step 5: Applying the model to the validation dataset"
      ]
    },
    {
      "cell_type": "code",
      "execution_count": 46,
      "metadata": {},
      "outputs": [],
      "source": [
        "df_val = pd.read_csv('Data/validation.csv')"
      ]
    },
    {
      "cell_type": "code",
      "execution_count": 47,
      "metadata": {},
      "outputs": [],
      "source": [
        "df_val['Family'] = df_val['Name'].str.split(',').str.get(0)\n",
        "df_val['Entitlement'] = df_val['Name'].str.split(',').str.get(1).str.split(' ').str.get(1)"
      ]
    },
    {
      "cell_type": "code",
      "execution_count": 48,
      "metadata": {},
      "outputs": [],
      "source": [
        "df_family = df_val[['Family', 'Name']].groupby('Family').size().reset_index(name='FamilySize')\n",
        "df_val = pd.merge(df_val, df_family, on='Family', how='left')"
      ]
    },
    {
      "cell_type": "code",
      "execution_count": 49,
      "metadata": {},
      "outputs": [],
      "source": [
        "# Removing the 'Name' and the 'Family' columns now as they became unnecessary\n",
        "df_val.drop('Name', axis=1, inplace=True)\n",
        "df_val.drop('Family', axis=1, inplace=True)"
      ]
    },
    {
      "cell_type": "code",
      "execution_count": 50,
      "metadata": {},
      "outputs": [
        {
          "data": {
            "text/html": [
              "<div>\n",
              "<style scoped>\n",
              "    .dataframe tbody tr th:only-of-type {\n",
              "        vertical-align: middle;\n",
              "    }\n",
              "\n",
              "    .dataframe tbody tr th {\n",
              "        vertical-align: top;\n",
              "    }\n",
              "\n",
              "    .dataframe thead th {\n",
              "        text-align: right;\n",
              "    }\n",
              "</style>\n",
              "<table border=\"1\" class=\"dataframe\">\n",
              "  <thead>\n",
              "    <tr style=\"text-align: right;\">\n",
              "      <th></th>\n",
              "      <th></th>\n",
              "      <th></th>\n",
              "      <th>PassengerId</th>\n",
              "    </tr>\n",
              "    <tr>\n",
              "      <th>SibSp</th>\n",
              "      <th>Parch</th>\n",
              "      <th>FamilySize</th>\n",
              "      <th></th>\n",
              "    </tr>\n",
              "  </thead>\n",
              "  <tbody>\n",
              "    <tr>\n",
              "      <th rowspan=\"5\" valign=\"top\">0</th>\n",
              "      <th rowspan=\"4\" valign=\"top\">0</th>\n",
              "      <th>1</th>\n",
              "      <td>219</td>\n",
              "    </tr>\n",
              "    <tr>\n",
              "      <th>2</th>\n",
              "      <td>27</td>\n",
              "    </tr>\n",
              "    <tr>\n",
              "      <th>3</th>\n",
              "      <td>1</td>\n",
              "    </tr>\n",
              "    <tr>\n",
              "      <th>4</th>\n",
              "      <td>6</td>\n",
              "    </tr>\n",
              "    <tr>\n",
              "      <th>1</th>\n",
              "      <th>1</th>\n",
              "      <td>10</td>\n",
              "    </tr>\n",
              "  </tbody>\n",
              "</table>\n",
              "</div>"
            ],
            "text/plain": [
              "                        PassengerId\n",
              "SibSp Parch FamilySize             \n",
              "0     0     1                   219\n",
              "            2                    27\n",
              "            3                     1\n",
              "            4                     6\n",
              "      1     1                    10"
            ]
          },
          "execution_count": 50,
          "metadata": {},
          "output_type": "execute_result"
        }
      ],
      "source": [
        "df_val[['SibSp', 'Parch', 'FamilySize','PassengerId']].groupby(['SibSp', 'Parch', 'FamilySize']).count().head()"
      ]
    },
    {
      "cell_type": "code",
      "execution_count": 51,
      "metadata": {},
      "outputs": [],
      "source": [
        "df_val['FamilyCategory'] = np.select(\n",
        "    [\n",
        "        (df_val['SibSp'] == 1) & (df_val['Parch'] == 0), \n",
        "        (df_val['SibSp'] == 0) & (df_val['Parch'] == 1),\n",
        "        (df_val['SibSp'] > 1 )& (df_val['Parch'] == 0),\n",
        "        (df_val['SibSp'] == 0) & (df_val['Parch'] > 1),\n",
        "        (df_val['SibSp'] == 0) & (df_val['Parch'] == 0) & (df_val['FamilySize'] != 1),\n",
        "        (df_val['SibSp'] == 0) & (df_val['Parch'] == 0) & (df_val['FamilySize'] == 1)\n",
        "    ], \n",
        "    [\n",
        "        'Couple', \n",
        "        'Couple',\n",
        "        'Couple and Children',\n",
        "        'Couple and Children',\n",
        "        'Relatives',\n",
        "        'Single person'\n",
        "    ], \n",
        "    default='Single person' # defaulting to 'Single Person' as most people were by themselves\n",
        ")"
      ]
    },
    {
      "cell_type": "code",
      "execution_count": 52,
      "metadata": {
        "colab": {
          "base_uri": "https://localhost:8080/"
        },
        "id": "JzTTmK6HnOzX",
        "outputId": "3e3cdd9c-1434-4c4c-b014-5990bcf3f669"
      },
      "outputs": [
        {
          "data": {
            "text/plain": [
              "FamilyCategory\n",
              "Couple                 30.0\n",
              "Couple and Children    27.5\n",
              "Relatives              24.0\n",
              "Single person          27.5\n",
              "Name: Age, dtype: float64"
            ]
          },
          "execution_count": 52,
          "metadata": {},
          "output_type": "execute_result"
        }
      ],
      "source": [
        "df_val.loc[~df_val['Age'].isna()].groupby('FamilyCategory').median()['Age']"
      ]
    },
    {
      "cell_type": "code",
      "execution_count": 53,
      "metadata": {
        "id": "9bxrWJIknOza"
      },
      "outputs": [],
      "source": [
        "df_val.loc[df_val.FamilyCategory.eq('Couple') & df_val.Age.isna()] = df_val.loc[df_val.FamilyCategory.eq('Couple') & df_val.Age.isna()].fillna(30);\n",
        "df_val.loc[df_val.FamilyCategory.eq('Couple and Children') & df_val.Age.isna()] = df_val.loc[df_val.FamilyCategory.eq('Couple and Children') & df_val.Age.isna()].fillna(27);\n",
        "df_val.loc[df_val.FamilyCategory.eq('Relatives') & df_val.Age.isna()] = df_val.loc[df_val.FamilyCategory.eq('Relatives') & df_val.Age.isna()].fillna(24);\n",
        "df_val.loc[df_val.FamilyCategory.eq('Single person') & df_val.Age.isna()] = df_val.loc[df_val.FamilyCategory.eq('Single person') & df_val.Age.isna()].fillna(27);"
      ]
    },
    {
      "cell_type": "code",
      "execution_count": 54,
      "metadata": {
        "id": "FOFELIVOnOzg"
      },
      "outputs": [],
      "source": [
        "df_val.drop('Cabin', axis=1, inplace=True)"
      ]
    },
    {
      "cell_type": "code",
      "execution_count": 55,
      "metadata": {
        "colab": {
          "base_uri": "https://localhost:8080/",
          "height": 206
        },
        "id": "O69G0gh0nOzj",
        "outputId": "49f38292-cf36-4cf9-c8ac-f382a5ca63e9"
      },
      "outputs": [],
      "source": [
        "df_val.drop('Ticket', axis=1, inplace=True)"
      ]
    },
    {
      "cell_type": "code",
      "execution_count": 56,
      "metadata": {},
      "outputs": [],
      "source": [
        "df_val = pd.get_dummies(df_val)"
      ]
    },
    {
      "cell_type": "code",
      "execution_count": 57,
      "metadata": {},
      "outputs": [
        {
          "data": {
            "text/html": [
              "<div>\n",
              "<style scoped>\n",
              "    .dataframe tbody tr th:only-of-type {\n",
              "        vertical-align: middle;\n",
              "    }\n",
              "\n",
              "    .dataframe tbody tr th {\n",
              "        vertical-align: top;\n",
              "    }\n",
              "\n",
              "    .dataframe thead th {\n",
              "        text-align: right;\n",
              "    }\n",
              "</style>\n",
              "<table border=\"1\" class=\"dataframe\">\n",
              "  <thead>\n",
              "    <tr style=\"text-align: right;\">\n",
              "      <th></th>\n",
              "      <th>PassengerId</th>\n",
              "      <th>Pclass</th>\n",
              "      <th>Age</th>\n",
              "      <th>SibSp</th>\n",
              "      <th>Parch</th>\n",
              "      <th>Fare</th>\n",
              "      <th>FamilySize</th>\n",
              "      <th>Sex_female</th>\n",
              "      <th>Sex_male</th>\n",
              "      <th>Embarked_C</th>\n",
              "      <th>...</th>\n",
              "      <th>Entitlement_Master.</th>\n",
              "      <th>Entitlement_Miss.</th>\n",
              "      <th>Entitlement_Mr.</th>\n",
              "      <th>Entitlement_Mrs.</th>\n",
              "      <th>Entitlement_Ms.</th>\n",
              "      <th>Entitlement_Rev.</th>\n",
              "      <th>FamilyCategory_Couple</th>\n",
              "      <th>FamilyCategory_Couple and Children</th>\n",
              "      <th>FamilyCategory_Relatives</th>\n",
              "      <th>FamilyCategory_Single person</th>\n",
              "    </tr>\n",
              "  </thead>\n",
              "  <tbody>\n",
              "    <tr>\n",
              "      <th>0</th>\n",
              "      <td>892</td>\n",
              "      <td>3</td>\n",
              "      <td>34.5</td>\n",
              "      <td>0</td>\n",
              "      <td>0</td>\n",
              "      <td>7.8292</td>\n",
              "      <td>1</td>\n",
              "      <td>0</td>\n",
              "      <td>1</td>\n",
              "      <td>0</td>\n",
              "      <td>...</td>\n",
              "      <td>0</td>\n",
              "      <td>0</td>\n",
              "      <td>1</td>\n",
              "      <td>0</td>\n",
              "      <td>0</td>\n",
              "      <td>0</td>\n",
              "      <td>0</td>\n",
              "      <td>0</td>\n",
              "      <td>0</td>\n",
              "      <td>1</td>\n",
              "    </tr>\n",
              "    <tr>\n",
              "      <th>1</th>\n",
              "      <td>893</td>\n",
              "      <td>3</td>\n",
              "      <td>47.0</td>\n",
              "      <td>1</td>\n",
              "      <td>0</td>\n",
              "      <td>7.0000</td>\n",
              "      <td>1</td>\n",
              "      <td>1</td>\n",
              "      <td>0</td>\n",
              "      <td>0</td>\n",
              "      <td>...</td>\n",
              "      <td>0</td>\n",
              "      <td>0</td>\n",
              "      <td>0</td>\n",
              "      <td>1</td>\n",
              "      <td>0</td>\n",
              "      <td>0</td>\n",
              "      <td>1</td>\n",
              "      <td>0</td>\n",
              "      <td>0</td>\n",
              "      <td>0</td>\n",
              "    </tr>\n",
              "    <tr>\n",
              "      <th>2</th>\n",
              "      <td>894</td>\n",
              "      <td>2</td>\n",
              "      <td>62.0</td>\n",
              "      <td>0</td>\n",
              "      <td>0</td>\n",
              "      <td>9.6875</td>\n",
              "      <td>1</td>\n",
              "      <td>0</td>\n",
              "      <td>1</td>\n",
              "      <td>0</td>\n",
              "      <td>...</td>\n",
              "      <td>0</td>\n",
              "      <td>0</td>\n",
              "      <td>1</td>\n",
              "      <td>0</td>\n",
              "      <td>0</td>\n",
              "      <td>0</td>\n",
              "      <td>0</td>\n",
              "      <td>0</td>\n",
              "      <td>0</td>\n",
              "      <td>1</td>\n",
              "    </tr>\n",
              "    <tr>\n",
              "      <th>3</th>\n",
              "      <td>895</td>\n",
              "      <td>3</td>\n",
              "      <td>27.0</td>\n",
              "      <td>0</td>\n",
              "      <td>0</td>\n",
              "      <td>8.6625</td>\n",
              "      <td>1</td>\n",
              "      <td>0</td>\n",
              "      <td>1</td>\n",
              "      <td>0</td>\n",
              "      <td>...</td>\n",
              "      <td>0</td>\n",
              "      <td>0</td>\n",
              "      <td>1</td>\n",
              "      <td>0</td>\n",
              "      <td>0</td>\n",
              "      <td>0</td>\n",
              "      <td>0</td>\n",
              "      <td>0</td>\n",
              "      <td>0</td>\n",
              "      <td>1</td>\n",
              "    </tr>\n",
              "    <tr>\n",
              "      <th>4</th>\n",
              "      <td>896</td>\n",
              "      <td>3</td>\n",
              "      <td>22.0</td>\n",
              "      <td>1</td>\n",
              "      <td>1</td>\n",
              "      <td>12.2875</td>\n",
              "      <td>1</td>\n",
              "      <td>1</td>\n",
              "      <td>0</td>\n",
              "      <td>0</td>\n",
              "      <td>...</td>\n",
              "      <td>0</td>\n",
              "      <td>0</td>\n",
              "      <td>0</td>\n",
              "      <td>1</td>\n",
              "      <td>0</td>\n",
              "      <td>0</td>\n",
              "      <td>0</td>\n",
              "      <td>0</td>\n",
              "      <td>0</td>\n",
              "      <td>1</td>\n",
              "    </tr>\n",
              "  </tbody>\n",
              "</table>\n",
              "<p>5 rows × 25 columns</p>\n",
              "</div>"
            ],
            "text/plain": [
              "   PassengerId  Pclass   Age  SibSp  Parch     Fare  FamilySize  Sex_female  \\\n",
              "0          892       3  34.5      0      0   7.8292           1           0   \n",
              "1          893       3  47.0      1      0   7.0000           1           1   \n",
              "2          894       2  62.0      0      0   9.6875           1           0   \n",
              "3          895       3  27.0      0      0   8.6625           1           0   \n",
              "4          896       3  22.0      1      1  12.2875           1           1   \n",
              "\n",
              "   Sex_male  Embarked_C  ...  Entitlement_Master.  Entitlement_Miss.  \\\n",
              "0         1           0  ...                    0                  0   \n",
              "1         0           0  ...                    0                  0   \n",
              "2         1           0  ...                    0                  0   \n",
              "3         1           0  ...                    0                  0   \n",
              "4         0           0  ...                    0                  0   \n",
              "\n",
              "   Entitlement_Mr.  Entitlement_Mrs.  Entitlement_Ms.  Entitlement_Rev.  \\\n",
              "0                1                 0                0                 0   \n",
              "1                0                 1                0                 0   \n",
              "2                1                 0                0                 0   \n",
              "3                1                 0                0                 0   \n",
              "4                0                 1                0                 0   \n",
              "\n",
              "   FamilyCategory_Couple  FamilyCategory_Couple and Children  \\\n",
              "0                      0                                   0   \n",
              "1                      1                                   0   \n",
              "2                      0                                   0   \n",
              "3                      0                                   0   \n",
              "4                      0                                   0   \n",
              "\n",
              "   FamilyCategory_Relatives  FamilyCategory_Single person  \n",
              "0                         0                             1  \n",
              "1                         0                             0  \n",
              "2                         0                             1  \n",
              "3                         0                             1  \n",
              "4                         0                             1  \n",
              "\n",
              "[5 rows x 25 columns]"
            ]
          },
          "execution_count": 57,
          "metadata": {},
          "output_type": "execute_result"
        }
      ],
      "source": [
        "df_val.head()"
      ]
    },
    {
      "cell_type": "code",
      "execution_count": 58,
      "metadata": {},
      "outputs": [],
      "source": [
        "df_val['Entitlement_Capt.'] = 0\n",
        "df_val['Entitlement_Don.'] = 0\n",
        "df_val['Entitlement_Mlle.'] = 0\n",
        "df_val['Entitlement_Mme.'] = 0\n",
        "df_val['Entitlement_Jonkheer.'] = 0\n",
        "df_val['Entitlement_Lady.'] = 0\n",
        "df_val['Entitlement_Major.'] = 0\n",
        "df_val['Entitlement_Sir.'] = 0"
      ]
    },
    {
      "cell_type": "code",
      "execution_count": 59,
      "metadata": {},
      "outputs": [],
      "source": [
        "X_val = df_val"
      ]
    },
    {
      "cell_type": "code",
      "execution_count": 60,
      "metadata": {},
      "outputs": [],
      "source": [
        "sc = StandardScaler()\n",
        "sc.fit(X_val)\n",
        "X_val_std = sc.transform(X_val)"
      ]
    },
    {
      "cell_type": "code",
      "execution_count": 61,
      "metadata": {},
      "outputs": [],
      "source": [
        "sc.fit(X)\n",
        "X_std = sc.transform(X)\n",
        "y_arr = keras.utils.np_utils.to_categorical(y, num_classes)"
      ]
    },
    {
      "cell_type": "code",
      "execution_count": 63,
      "metadata": {},
      "outputs": [
        {
          "data": {
            "text/plain": [
              "\"\\nparam_grid = {\\n  'qt_relu_layers': [2, 4, 16, 32, 64, 128],\\n  'optimizer': ['SGD', 'RMSprop', 'Adagrad', 'Adadelta', 'Adam', 'Adamax', 'Nadam'],\\n  'epochs': [2, 5, 10, 20, 30, 40, 50, 100, 200]\\n}\\n\\nmodel = KerasClassifier(build_fn=get_model, verbose=False, batch_size=batch_size, epochs=epochs)\\n\\nuse_all_processors = -1\\ngs = GridSearchCV(estimator=model, param_grid=param_grid, n_jobs=use_all_processors)\\n                                                  \\ngs.fit(X_std, y_arr)\\n\\nprint(gs.best_params_)\\nprint(gs.best_score_)\\n\""
            ]
          },
          "execution_count": 63,
          "metadata": {},
          "output_type": "execute_result"
        }
      ],
      "source": [
        "# Using GridSearch to determine the best parameters and best train score (commented out to save computing resources when executing everything)\n",
        "'''\n",
        "param_grid = {\n",
        "  'qt_relu_layers': [2, 4, 16, 32, 64, 128],\n",
        "  'optimizer': ['SGD', 'RMSprop', 'Adagrad', 'Adadelta', 'Adam', 'Adamax', 'Nadam'],\n",
        "  'epochs': [2, 5, 10, 20, 30, 40, 50, 100, 200]\n",
        "}\n",
        "\n",
        "model = KerasClassifier(build_fn=get_model, verbose=False, batch_size=batch_size, epochs=epochs)\n",
        "\n",
        "use_all_processors = -1\n",
        "gs = GridSearchCV(estimator=model, param_grid=param_grid, n_jobs=use_all_processors)\n",
        "                                                  \n",
        "gs.fit(X_std, y_arr)\n",
        "\n",
        "print(gs.best_params_)\n",
        "print(gs.best_score_)\n",
        "'''"
      ]
    },
    {
      "cell_type": "code",
      "execution_count": 64,
      "metadata": {},
      "outputs": [
        {
          "name": "stdout",
          "output_type": "stream",
          "text": [
            "Model: \"sequential_2\"\n",
            "_________________________________________________________________\n",
            "Layer (type)                 Output Shape              Param #   \n",
            "=================================================================\n",
            "dense_6 (Dense)              (None, 128)               4352      \n",
            "_________________________________________________________________\n",
            "dense_7 (Dense)              (None, 64)                8256      \n",
            "_________________________________________________________________\n",
            "dense_8 (Dense)              (None, 2)                 130       \n",
            "=================================================================\n",
            "Total params: 12,738\n",
            "Trainable params: 12,738\n",
            "Non-trainable params: 0\n",
            "_________________________________________________________________\n"
          ]
        },
        {
          "data": {
            "text/plain": [
              "<keras.callbacks.History at 0x2679ca894c0>"
            ]
          },
          "execution_count": 64,
          "metadata": {},
          "output_type": "execute_result"
        }
      ],
      "source": [
        "# Training our model with the best NN\n",
        "qt_relu_layers = 128\n",
        "optimizer = 'RMSprop'\n",
        "epochs = 200\n",
        "model = get_model(qt_relu_layers, optimizer, epochs)\n",
        "model.fit(X_std, y_arr,\n",
        "            batch_size=batch_size,\n",
        "            epochs=epochs,\n",
        "            verbose=False\n",
        "        )"
      ]
    },
    {
      "cell_type": "code",
      "execution_count": null,
      "metadata": {},
      "outputs": [],
      "source": [
        "y_pred = model.predict(X_val_std)"
      ]
    },
    {
      "cell_type": "code",
      "execution_count": null,
      "metadata": {},
      "outputs": [],
      "source": [
        "y_pred = np.argmax(y_pred, axis=1)"
      ]
    },
    {
      "cell_type": "code",
      "execution_count": null,
      "metadata": {},
      "outputs": [],
      "source": [
        "y_pred = pd.DataFrame(y_pred)\n",
        "y_pred.columns = ['Survived']"
      ]
    },
    {
      "cell_type": "code",
      "execution_count": null,
      "metadata": {},
      "outputs": [],
      "source": [
        "df_results = pd.concat([X_val['PassengerId'], y_pred], axis=1)"
      ]
    },
    {
      "cell_type": "code",
      "execution_count": null,
      "metadata": {},
      "outputs": [],
      "source": [
        "df_results.to_csv('Results.csv', index=False)"
      ]
    }
  ],
  "metadata": {
    "accelerator": "GPU",
    "colab": {
      "collapsed_sections": [],
      "name": "Week4_Assignment.ipynb",
      "provenance": [],
      "toc_visible": true
    },
    "interpreter": {
      "hash": "2db524e06e9f5f4ffedc911c917cb75e12dbc923643829bf417064a77eb14d37"
    },
    "kernelspec": {
      "display_name": "Python 3.8.2 64-bit",
      "name": "python3"
    },
    "language_info": {
      "codemirror_mode": {
        "name": "ipython",
        "version": 3
      },
      "file_extension": ".py",
      "mimetype": "text/x-python",
      "name": "python",
      "nbconvert_exporter": "python",
      "pygments_lexer": "ipython3",
      "version": "3.8.2"
    }
  },
  "nbformat": 4,
  "nbformat_minor": 0
}
